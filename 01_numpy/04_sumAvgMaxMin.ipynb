{
 "cells": [
  {
   "cell_type": "code",
   "execution_count": 1,
   "metadata": {},
   "outputs": [],
   "source": [
    "import numpy as np"
   ]
  },
  {
   "cell_type": "code",
   "execution_count": 6,
   "metadata": {},
   "outputs": [
    {
     "name": "stdout",
     "output_type": "stream",
     "text": [
      "sum : 451\n",
      "avg : 90.2\n",
      "max : 100\n",
      "min : 78\n"
     ]
    }
   ],
   "source": [
    "score = {90, 85, 78, 100, 98}\n",
    "sum, avg, max, min = 0, 0, 0, 999\n",
    "\n",
    "for s in score:\n",
    "    sum += s\n",
    "    avg = sum / len(score)\n",
    "    if max < s: max = s\n",
    "    if min > s: min = s\n",
    "    \n",
    "print(f\"sum : {sum}\\navg : {avg}\\nmax : {max}\\nmin : {min}\")\n",
    "    "
   ]
  },
  {
   "cell_type": "code",
   "execution_count": null,
   "metadata": {},
   "outputs": [],
   "source": []
  }
 ],
 "metadata": {
  "kernelspec": {
   "display_name": "Python 3.8.8 ('base')",
   "language": "python",
   "name": "python3"
  },
  "language_info": {
   "codemirror_mode": {
    "name": "ipython",
    "version": 3
   },
   "file_extension": ".py",
   "mimetype": "text/x-python",
   "name": "python",
   "nbconvert_exporter": "python",
   "pygments_lexer": "ipython3",
   "version": "3.8.8"
  },
  "orig_nbformat": 4,
  "vscode": {
   "interpreter": {
    "hash": "9e765a96e5f40489db376370017179d79de916a29247b681d0d65e2e01ae9302"
   }
  }
 },
 "nbformat": 4,
 "nbformat_minor": 2
}
