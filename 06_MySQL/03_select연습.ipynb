{
 "cells": [
  {
   "cell_type": "markdown",
   "metadata": {},
   "source": [
    "#### MySQL - 조회하는 방법"
   ]
  },
  {
   "cell_type": "code",
   "execution_count": 1,
   "metadata": {},
   "outputs": [
    {
     "data": {
      "text/plain": [
       "{'host': '140.238.202.82',\n",
       " 'user': 'mcuser',\n",
       " 'password': 'Gratis2021!',\n",
       " 'database': 'mcdb',\n",
       " 'port': 3306}"
      ]
     },
     "execution_count": 1,
     "metadata": {},
     "output_type": "execute_result"
    }
   ],
   "source": [
    "import json\n",
    "with open('../mysql.json') as fp:\n",
    "    config_str = fp.read()\n",
    "config = json.loads(config_str)\n",
    "\n",
    "config"
   ]
  },
  {
   "cell_type": "code",
   "execution_count": 2,
   "metadata": {},
   "outputs": [],
   "source": [
    "import pymysql\n",
    "conn = pymysql.connect(host=config['host'], user=config['user'], password=config['password'],\n",
    "                       database=config['database'], port=config['port'])"
   ]
  },
  {
   "cell_type": "markdown",
   "metadata": {},
   "source": [
    "##### 데이터 조회"
   ]
  },
  {
   "cell_type": "code",
   "execution_count": 3,
   "metadata": {},
   "outputs": [],
   "source": [
    "# 1건 조회\n",
    "sql_select = '''\n",
    "    SELECT uid, uname, email, date_format(reg_date, '%Y-%m-%d %H:%i') AS reg_date\n",
    "    FROM users WHERE is_deleted=0 ORDER BY reg_date\n",
    "    '''"
   ]
  },
  {
   "cell_type": "code",
   "execution_count": 4,
   "metadata": {},
   "outputs": [
    {
     "data": {
      "text/plain": [
       "('admin', '관리자', 'admin@mc.com', '2021-08-25 13:30')"
      ]
     },
     "execution_count": 4,
     "metadata": {},
     "output_type": "execute_result"
    }
   ],
   "source": [
    "cur = conn.cursor()\n",
    "cur.execute(sql_select)\n",
    "row = cur.fetchone()\n",
    "row"
   ]
  },
  {
   "cell_type": "code",
   "execution_count": 5,
   "metadata": {},
   "outputs": [
    {
     "data": {
      "text/plain": [
       "('eskim', '김은숙', 'eskim@mc.com', '2021-08-25 13:37')"
      ]
     },
     "execution_count": 5,
     "metadata": {},
     "output_type": "execute_result"
    }
   ],
   "source": [
    "row = cur.fetchone()\n",
    "row"
   ]
  },
  {
   "cell_type": "code",
   "execution_count": 6,
   "metadata": {},
   "outputs": [
    {
     "data": {
      "text/plain": [
       "(('admin', '관리자', 'admin@mc.com', '2021-08-25 13:30'),\n",
       " ('eskim', '김은숙', 'eskim@mc.com', '2021-08-25 13:37'),\n",
       " ('wjlee', '이우정', 'wjlee@mc.com', '2021-08-25 13:37'))"
      ]
     },
     "execution_count": 6,
     "metadata": {},
     "output_type": "execute_result"
    }
   ],
   "source": [
    "# 여러건 조회\n",
    "cur.execute(sql_select)\n",
    "rows = cur.fetchmany(3)\n",
    "rows"
   ]
  },
  {
   "cell_type": "code",
   "execution_count": 7,
   "metadata": {},
   "outputs": [
    {
     "data": {
      "text/plain": [
       "(('admin', '관리자', 'admin@mc.com', '2021-08-25 13:30'),\n",
       " ('eskim', '김은숙', 'eskim@mc.com', '2021-08-25 13:37'),\n",
       " ('wjlee', '이우정', 'wjlee@mc.com', '2021-08-25 13:37'),\n",
       " ('djy', '대조영', 'djy@mc.com', '2021-08-25 13:45'),\n",
       " ('gdong', '홍길동', 'gdong@mc.com', '2021-08-25 14:05'),\n",
       " ('jbpark', '박재범', 'jbpark@mc.com', '2021-08-25 14:05'))"
      ]
     },
     "execution_count": 7,
     "metadata": {},
     "output_type": "execute_result"
    }
   ],
   "source": [
    "# 모두 조회\n",
    "cur.execute(sql_select)\n",
    "rows = cur.fetchall()\n",
    "rows"
   ]
  },
  {
   "cell_type": "code",
   "execution_count": 8,
   "metadata": {},
   "outputs": [
    {
     "name": "stdout",
     "output_type": "stream",
     "text": [
      "('admin', '관리자', 'admin@mc.com', '2021-08-25 13:30')\n",
      "('eskim', '김은숙', 'eskim@mc.com', '2021-08-25 13:37')\n",
      "('wjlee', '이우정', 'wjlee@mc.com', '2021-08-25 13:37')\n",
      "('djy', '대조영', 'djy@mc.com', '2021-08-25 13:45')\n",
      "('gdong', '홍길동', 'gdong@mc.com', '2021-08-25 14:05')\n",
      "('jbpark', '박재범', 'jbpark@mc.com', '2021-08-25 14:05')\n"
     ]
    }
   ],
   "source": [
    "# 반복문을 사용해서 조회\n",
    "cur.execute(sql_select)\n",
    "for row in cur:\n",
    "    print(row)"
   ]
  },
  {
   "cell_type": "markdown",
   "metadata": {},
   "source": [
    "##### 데이터 검색"
   ]
  },
  {
   "cell_type": "code",
   "execution_count": 9,
   "metadata": {},
   "outputs": [],
   "source": [
    "uid = 'eskim'\n",
    "sql_search = \"\"\"\n",
    "    SELECT uid, uname, email, date_format(reg_date, '%%Y-%%m-%%d %%H:%%i') AS reg_date\n",
    "    FROM users WHERE is_deleted = 0 AND uid = %s;\"\"\""
   ]
  },
  {
   "cell_type": "code",
   "execution_count": 10,
   "metadata": {},
   "outputs": [
    {
     "data": {
      "text/plain": [
       "('eskim', '김은숙', 'eskim@mc.com', '2021-08-25 13:37')"
      ]
     },
     "execution_count": 10,
     "metadata": {},
     "output_type": "execute_result"
    }
   ],
   "source": [
    "cur.execute(sql_search, (uid,))\n",
    "result = cur.fetchone()\n",
    "result"
   ]
  },
  {
   "cell_type": "code",
   "execution_count": 11,
   "metadata": {},
   "outputs": [],
   "source": [
    "# 데이터가 없는 경우\n",
    "uid = 'park'\n",
    "cur.execute(sql_search, (uid,))\n",
    "result = cur.fetchone()\n",
    "result"
   ]
  },
  {
   "cell_type": "code",
   "execution_count": 12,
   "metadata": {},
   "outputs": [
    {
     "name": "stdout",
     "output_type": "stream",
     "text": [
      "uid=park인 사용자는 없음\n"
     ]
    }
   ],
   "source": [
    "if result:\n",
    "    print(result)\n",
    "else:\n",
    "    print(f'uid={uid}인 사용자는 없음')"
   ]
  },
  {
   "cell_type": "code",
   "execution_count": null,
   "metadata": {},
   "outputs": [],
   "source": []
  }
 ],
 "metadata": {
  "kernelspec": {
   "display_name": "Python 3.8.8 ('base')",
   "language": "python",
   "name": "python3"
  },
  "language_info": {
   "codemirror_mode": {
    "name": "ipython",
    "version": 3
   },
   "file_extension": ".py",
   "mimetype": "text/x-python",
   "name": "python",
   "nbconvert_exporter": "python",
   "pygments_lexer": "ipython3",
   "version": "3.8.8"
  },
  "orig_nbformat": 4,
  "vscode": {
   "interpreter": {
    "hash": "9e765a96e5f40489db376370017179d79de916a29247b681d0d65e2e01ae9302"
   }
  }
 },
 "nbformat": 4,
 "nbformat_minor": 2
}
