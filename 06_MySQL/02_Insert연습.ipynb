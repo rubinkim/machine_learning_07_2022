{
 "cells": [
  {
   "cell_type": "markdown",
   "metadata": {},
   "source": [
    "#### MySQL 테이블 생성 및 데이터 입력 방법"
   ]
  },
  {
   "cell_type": "code",
   "execution_count": 14,
   "metadata": {},
   "outputs": [
    {
     "name": "stdout",
     "output_type": "stream",
     "text": [
      "{'host': '140.238.202.82', 'user': 'mcuser', 'password': 'Gratis2021!', 'database': 'mcdb', 'port': 3306}\n"
     ]
    }
   ],
   "source": [
    "import json\n",
    "with open('../mysql.json') as fp:\n",
    "    config_str = fp.read()\n",
    "config = json.loads(config_str)\n",
    "print(config)"
   ]
  },
  {
   "cell_type": "code",
   "execution_count": 15,
   "metadata": {},
   "outputs": [
    {
     "name": "stdout",
     "output_type": "stream",
     "text": [
      "<pymysql.connections.Connection object at 0x000001589F92DAF0>\n"
     ]
    }
   ],
   "source": [
    "import pymysql\n",
    "conn = pymysql.connect(host=config['host'], user=config['user'], password=config['password'],\\\n",
    "database=config['database'], port=config['port'])\n",
    "\n",
    "print(conn)"
   ]
  },
  {
   "cell_type": "markdown",
   "metadata": {},
   "source": [
    "##### 테이블 생성"
   ]
  },
  {
   "cell_type": "code",
   "execution_count": 6,
   "metadata": {},
   "outputs": [],
   "source": [
    "cur = conn.cursor()\n",
    "sql_create_table = '''\n",
    "    CREATE TABLE IF NOT EXISTS users_new(\n",
    "        uid VARCHAR(20) NOT NULL PRIMARY KEY,\n",
    "        pwd CHAR(44) NOT NULL,\n",
    "        uname VARCHAR(20) NOT NULL,\n",
    "        email VARCHAR(40),\n",
    "        reg_date DATETIME DEFAULT CURRENT_TIMESTAMP,\n",
    "        is_deleted INT DEFAULT 0\n",
    "    );\n",
    "    '''"
   ]
  },
  {
   "cell_type": "code",
   "execution_count": 7,
   "metadata": {},
   "outputs": [
    {
     "data": {
      "text/plain": [
       "0"
      ]
     },
     "execution_count": 7,
     "metadata": {},
     "output_type": "execute_result"
    }
   ],
   "source": [
    "cur.execute(sql_create_table)"
   ]
  },
  {
   "cell_type": "markdown",
   "metadata": {},
   "source": [
    "##### 데이터 추가"
   ]
  },
  {
   "cell_type": "code",
   "execution_count": 16,
   "metadata": {},
   "outputs": [
    {
     "data": {
      "text/plain": [
       "1"
      ]
     },
     "execution_count": 16,
     "metadata": {},
     "output_type": "execute_result"
    }
   ],
   "source": [
    "cur = conn.cursor()  # create a new cursor to execute queries with\n",
    "sql_insert = \"INSERT INTO users_new(uid, pwd, uname) VALUES\\\n",
    "('admin', '1234', '관리자');\"\n",
    "\n",
    "cur.execute(sql_insert)"
   ]
  },
  {
   "cell_type": "code",
   "execution_count": 17,
   "metadata": {},
   "outputs": [
    {
     "data": {
      "text/plain": [
       "('admin', '1234', '관리자', None, datetime.datetime(2022, 8, 31, 20, 37, 32), 0)"
      ]
     },
     "execution_count": 17,
     "metadata": {},
     "output_type": "execute_result"
    }
   ],
   "source": [
    "sql_select = 'SELECT * FROM users_new;'\n",
    "cur.execute(sql_select)\n",
    "row = cur.fetchone()\n",
    "row"
   ]
  },
  {
   "cell_type": "markdown",
   "metadata": {},
   "source": [
    "#### 데이터를 데이터베이스에 저장하려면 반드시 conn.commit()를 해줘야 한다."
   ]
  },
  {
   "cell_type": "code",
   "execution_count": 18,
   "metadata": {},
   "outputs": [],
   "source": [
    "conn.commit()"
   ]
  },
  {
   "cell_type": "markdown",
   "metadata": {},
   "source": [
    "##### 여러건의 데이터 추가"
   ]
  },
  {
   "cell_type": "code",
   "execution_count": 19,
   "metadata": {},
   "outputs": [],
   "source": [
    "sql_multi_insert = '''\n",
    "INSERT INTO users_new(uid, pwd, uname) VALUES\\\n",
    "('jycheon', '1783', '천지영'),\n",
    "('kwkim', '2654', '김기원'),\n",
    "('hykim', '0859', '김한용');\n",
    "'''\n",
    "\n",
    "cur.execute(sql_multi_insert)\n",
    "conn.commit()"
   ]
  }
 ],
 "metadata": {
  "kernelspec": {
   "display_name": "Python 3.8.8 ('base')",
   "language": "python",
   "name": "python3"
  },
  "language_info": {
   "codemirror_mode": {
    "name": "ipython",
    "version": 3
   },
   "file_extension": ".py",
   "mimetype": "text/x-python",
   "name": "python",
   "nbconvert_exporter": "python",
   "pygments_lexer": "ipython3",
   "version": "3.8.8"
  },
  "orig_nbformat": 4,
  "vscode": {
   "interpreter": {
    "hash": "9e765a96e5f40489db376370017179d79de916a29247b681d0d65e2e01ae9302"
   }
  }
 },
 "nbformat": 4,
 "nbformat_minor": 2
}
