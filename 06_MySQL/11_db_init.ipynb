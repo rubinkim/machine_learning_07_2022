{
 "cells": [
  {
   "cell_type": "code",
   "execution_count": null,
   "metadata": {},
   "outputs": [],
   "source": []
  },
  {
   "cell_type": "markdown",
   "metadata": {},
   "source": [
    "#### DB 초기화 프로그램"
   ]
  },
  {
   "cell_type": "code",
   "execution_count": 4,
   "metadata": {},
   "outputs": [
    {
     "data": {
      "text/plain": [
       "{'host': '140.238.202.82',\n",
       " 'user': 'mcuser',\n",
       " 'password': 'Gratis2021!',\n",
       " 'database': 'mcdb',\n",
       " 'port': 3306}"
      ]
     },
     "execution_count": 4,
     "metadata": {},
     "output_type": "execute_result"
    }
   ],
   "source": [
    "import pymysql\n",
    "import json\n",
    "\n",
    "with open('../mysql.json') as fp:\n",
    "    config_str = fp.read()\n",
    "config = json.loads(config_str)\n",
    "\n",
    "config"
   ]
  },
  {
   "cell_type": "code",
   "execution_count": 5,
   "metadata": {},
   "outputs": [],
   "source": [
    "conn = pymysql.connect(host=config['host'], user=config['user'], password=config['password'],\n",
    "                       database=config['database'], port=config['port'])"
   ]
  },
  {
   "cell_type": "markdown",
   "metadata": {},
   "source": [
    "#### products 테이블"
   ]
  },
  {
   "cell_type": "code",
   "execution_count": 8,
   "metadata": {},
   "outputs": [],
   "source": [
    "# products 테이블 생성 sql\n",
    "sql = \"\"\"\n",
    "    CREATE TABLE if NOT exists new_products(\n",
    "        pid INT PRIMARY KEY AUTO_INCREMENT,\n",
    "        pname VARCHAR(40) NOT NULL,\n",
    "        pprice INT UNSIGNED NOT NULL,\n",
    "        pcategory VARCHAR(20) NOT NULL,\n",
    "        pcost INT UNSIGNED NOT NULL\n",
    "    ) AUTO_INCREMENT=11;\n",
    "\"\"\""
   ]
  },
  {
   "cell_type": "code",
   "execution_count": 9,
   "metadata": {},
   "outputs": [
    {
     "data": {
      "text/plain": [
       "0"
      ]
     },
     "execution_count": 9,
     "metadata": {},
     "output_type": "execute_result"
    }
   ],
   "source": [
    "cur = conn.cursor()\n",
    "cur.execute(sql)"
   ]
  },
  {
   "cell_type": "code",
   "execution_count": 14,
   "metadata": {},
   "outputs": [],
   "source": [
    "camping_goods = ['텐트','타프','천막','침낭','매트','랜턴','취사용품','아이스박스','보조배터리','워터저그']\n",
    "car_goods = ['블랙박스','내비게이션','하이패스','후방카메라','자동차TV','카오디오','핸즈프리','헤드유닛','방진매트','윤활방청제']\n",
    "health_goods = ['러닝머신','웨이트기구','복근운동기구','벨트','거꾸리','훌라후프','트램펄린','스텝퍼','로잉머신','헬스사이클']\n",
    "category_names = ['캠핑용품','자동차용품','헬스용품']"
   ]
  },
  {
   "cell_type": "code",
   "execution_count": 16,
   "metadata": {},
   "outputs": [
    {
     "data": {
      "text/plain": [
       "[10, 10, 10, 3]"
      ]
     },
     "execution_count": 16,
     "metadata": {},
     "output_type": "execute_result"
    }
   ],
   "source": [
    "[len(x) for x in [camping_goods, car_goods, health_goods, category_names]]"
   ]
  },
  {
   "cell_type": "code",
   "execution_count": 17,
   "metadata": {},
   "outputs": [
    {
     "name": "stdout",
     "output_type": "stream",
     "text": [
      "텐트 95600 캠핑 87000\n",
      "타프 97800 캠핑 92910\n",
      "천막 65700 캠핑 58470\n",
      "침낭 35300 캠핑 33540\n",
      "매트 13500 캠핑 12420\n",
      "랜턴 58500 캠핑 54990\n",
      "취사용품 16500 캠핑 14850\n",
      "아이스박스 37600 캠핑 33460\n",
      "보조배터리 58600 캠핑 50400\n",
      "워터저그 26500 캠핑 23060\n"
     ]
    }
   ],
   "source": [
    "import random\n",
    "random.seed(2021)\n",
    "\n",
    "for item in camping_goods:\n",
    "    price = random.randint(100, 999) * 100\n",
    "    rate = random.randint(85, 98)\n",
    "    cost = int(round(price * rate / 1000) * 10)\n",
    "    print(item, price, \"캠핑\", cost)"
   ]
  },
  {
   "cell_type": "code",
   "execution_count": 18,
   "metadata": {},
   "outputs": [],
   "source": [
    "sql = \"insert into new_products(pname, pprice, pcategory, pcost) values(%s, %s, %s, %s);\"\n",
    "for i, item_list in enumerate([camping_goods, car_goods, health_goods]):\n",
    "    for item in item_list:\n",
    "        price = random.randint(100, 999) * 100\n",
    "        rate = random.randint(85, 98)\n",
    "        cost = int(round(price * rate / 1000) * 10)\n",
    "        cur.execute(sql, (item, price, category_names[i], cost))\n",
    "conn.commit()"
   ]
  },
  {
   "cell_type": "code",
   "execution_count": null,
   "metadata": {},
   "outputs": [],
   "source": []
  }
 ],
 "metadata": {
  "kernelspec": {
   "display_name": "Python 3.8.8 ('base')",
   "language": "python",
   "name": "python3"
  },
  "language_info": {
   "codemirror_mode": {
    "name": "ipython",
    "version": 3
   },
   "file_extension": ".py",
   "mimetype": "text/x-python",
   "name": "python",
   "nbconvert_exporter": "python",
   "pygments_lexer": "ipython3",
   "version": "3.8.8"
  },
  "orig_nbformat": 4,
  "vscode": {
   "interpreter": {
    "hash": "9e765a96e5f40489db376370017179d79de916a29247b681d0d65e2e01ae9302"
   }
  }
 },
 "nbformat": 4,
 "nbformat_minor": 2
}
