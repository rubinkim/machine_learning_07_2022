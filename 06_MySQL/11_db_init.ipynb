{
 "cells": [
  {
   "cell_type": "code",
   "execution_count": null,
   "metadata": {},
   "outputs": [],
   "source": []
  },
  {
   "cell_type": "markdown",
   "metadata": {},
   "source": [
    "#### DB 초기화 프로그램"
   ]
  },
  {
   "cell_type": "code",
   "execution_count": 3,
   "metadata": {},
   "outputs": [
    {
     "data": {
      "text/plain": [
       "{'host': '140.238.202.82',\n",
       " 'user': 'mcuser',\n",
       " 'password': 'Gratis2021!',\n",
       " 'database': 'mcdb',\n",
       " 'port': 3306}"
      ]
     },
     "execution_count": 3,
     "metadata": {},
     "output_type": "execute_result"
    }
   ],
   "source": [
    "import pymysql\n",
    "import json\n",
    "\n",
    "with open('../mysql.json') as fp:\n",
    "    config_str = fp.read()\n",
    "config = json.loads(config_str)\n",
    "\n",
    "config"
   ]
  },
  {
   "cell_type": "code",
   "execution_count": 4,
   "metadata": {},
   "outputs": [],
   "source": [
    "conn = pymysql.connect(host=config['host'], user=config['user'], password=config['password'],\n",
    "                       database=config['database'], port=config['port'])"
   ]
  },
  {
   "cell_type": "markdown",
   "metadata": {},
   "source": [
    "#### new_products 테이블"
   ]
  },
  {
   "cell_type": "code",
   "execution_count": 8,
   "metadata": {},
   "outputs": [],
   "source": [
    "# products 테이블 생성 sql\n",
    "sql = \"\"\"\n",
    "    CREATE TABLE if NOT exists new_products(\n",
    "        pid INT PRIMARY KEY AUTO_INCREMENT,\n",
    "        pname VARCHAR(40) NOT NULL,\n",
    "        pprice INT UNSIGNED NOT NULL,\n",
    "        pcategory VARCHAR(20) NOT NULL,\n",
    "        pcost INT UNSIGNED NOT NULL\n",
    "    ) AUTO_INCREMENT=11;\n",
    "\"\"\""
   ]
  },
  {
   "cell_type": "code",
   "execution_count": 9,
   "metadata": {},
   "outputs": [
    {
     "data": {
      "text/plain": [
       "0"
      ]
     },
     "execution_count": 9,
     "metadata": {},
     "output_type": "execute_result"
    }
   ],
   "source": [
    "cur = conn.cursor()\n",
    "cur.execute(sql)"
   ]
  },
  {
   "cell_type": "code",
   "execution_count": 14,
   "metadata": {},
   "outputs": [],
   "source": [
    "camping_goods = ['텐트','타프','천막','침낭','매트','랜턴','취사용품','아이스박스','보조배터리','워터저그']\n",
    "car_goods = ['블랙박스','내비게이션','하이패스','후방카메라','자동차TV','카오디오','핸즈프리','헤드유닛','방진매트','윤활방청제']\n",
    "health_goods = ['러닝머신','웨이트기구','복근운동기구','벨트','거꾸리','훌라후프','트램펄린','스텝퍼','로잉머신','헬스사이클']\n",
    "category_names = ['캠핑용품','자동차용품','헬스용품']"
   ]
  },
  {
   "cell_type": "code",
   "execution_count": 16,
   "metadata": {},
   "outputs": [
    {
     "data": {
      "text/plain": [
       "[10, 10, 10, 3]"
      ]
     },
     "execution_count": 16,
     "metadata": {},
     "output_type": "execute_result"
    }
   ],
   "source": [
    "[len(x) for x in [camping_goods, car_goods, health_goods, category_names]]"
   ]
  },
  {
   "cell_type": "code",
   "execution_count": 17,
   "metadata": {},
   "outputs": [
    {
     "name": "stdout",
     "output_type": "stream",
     "text": [
      "텐트 95600 캠핑 87000\n",
      "타프 97800 캠핑 92910\n",
      "천막 65700 캠핑 58470\n",
      "침낭 35300 캠핑 33540\n",
      "매트 13500 캠핑 12420\n",
      "랜턴 58500 캠핑 54990\n",
      "취사용품 16500 캠핑 14850\n",
      "아이스박스 37600 캠핑 33460\n",
      "보조배터리 58600 캠핑 50400\n",
      "워터저그 26500 캠핑 23060\n"
     ]
    }
   ],
   "source": [
    "import random\n",
    "random.seed(2021)\n",
    "\n",
    "for item in camping_goods:\n",
    "    price = random.randint(100, 999) * 100\n",
    "    rate = random.randint(85, 98)\n",
    "    cost = int(round(price * rate / 1000) * 10)\n",
    "    print(item, price, \"캠핑\", cost)"
   ]
  },
  {
   "cell_type": "code",
   "execution_count": 18,
   "metadata": {},
   "outputs": [],
   "source": [
    "sql = \"insert into new_products(pname, pprice, pcategory, pcost) values(%s, %s, %s, %s);\"\n",
    "for i, item_list in enumerate([camping_goods, car_goods, health_goods]):\n",
    "    for item in item_list:\n",
    "        price = random.randint(100, 999) * 100\n",
    "        rate = random.randint(85, 98)\n",
    "        cost = int(round(price * rate / 1000) * 10)\n",
    "        cur.execute(sql, (item, price, category_names[i], cost))\n",
    "conn.commit()"
   ]
  },
  {
   "cell_type": "markdown",
   "metadata": {},
   "source": [
    "#### new_sales 테이블"
   ]
  },
  {
   "cell_type": "code",
   "execution_count": 1,
   "metadata": {},
   "outputs": [],
   "source": [
    "# spid를  외래키(foreign key)로 설정\n",
    "sql = \"\"\"\n",
    "    CREATE TABLE if NOT exists new_sales(\n",
    "        sid INT PRIMARY KEY AUTO_INCREMENT,\n",
    "        sdate DATE NOT NULL,\n",
    "        scompany VARCHAR(20) NOT NULL,\n",
    "        spid INT NOT NULL,\n",
    "        sunit INT NOT NULL,\n",
    "        FOREIGN KEY(spid) REFERENCES new_products(pid)\n",
    "    ) AUTO_INCREMENT=101;\n",
    "\"\"\""
   ]
  },
  {
   "cell_type": "code",
   "execution_count": 5,
   "metadata": {},
   "outputs": [
    {
     "data": {
      "text/plain": [
       "0"
      ]
     },
     "execution_count": 5,
     "metadata": {},
     "output_type": "execute_result"
    }
   ],
   "source": [
    "cur = conn.cursor()\n",
    "cur.execute(sql)"
   ]
  },
  {
   "cell_type": "code",
   "execution_count": 10,
   "metadata": {},
   "outputs": [
    {
     "name": "stdout",
     "output_type": "stream",
     "text": [
      "2022-1-18 테크브루 27 16\n",
      "2022-1-4 생산성본부 12 14\n",
      "2022-1-17 한경아카데미 16 19\n",
      "2022-1-2 한경아카데미 38 15\n",
      "2022-1-3 테크브루 18 13\n",
      "2022-1-16 표준협회 24 12\n",
      "2022-1-31 테크브루 27 17\n",
      "2022-1-6 테크브루 29 5\n",
      "2022-1-10 표준협회 38 18\n",
      "2022-1-14 표준협회 22 10\n"
     ]
    }
   ],
   "source": [
    "calendar = {1:31, 2:29, 3:31, 4:30, 5:31, 6:30, 7:31, 8:31, 9:30, 10:31, 11:30, 12:31}\n",
    "company_list = ['멀티캠퍼스', '한경아카데미', '표준협회', '생산성본부', '테크브루']\n",
    "\n",
    "for i in range(10):\n",
    "    date = f'2022-1-{random.randint(1,31)}'\n",
    "    company = company_list[random.randint(0,4)]\n",
    "    pid = random.randint(11, 40)\n",
    "    unit = random.randint(1, 20)\n",
    "    print(date, company, pid, unit)"
   ]
  },
  {
   "cell_type": "code",
   "execution_count": 11,
   "metadata": {},
   "outputs": [],
   "source": [
    "sql = \"INSERT INTO new_sales VALUES(default, %s, %s, %s, %s);\"\n",
    "\n",
    "for month, day in calendar.items():\n",
    "    for i in range(10):\n",
    "        date = f'2022-{month}-{random.randint(1, day)}'\n",
    "        company = company_list[random.randint(0,4)]\n",
    "        pid = random.randint(11, 40)\n",
    "        unit = random.randint(1,20)\n",
    "        cur.execute(sql, (date, company, pid, unit))\n",
    "conn.commit()"
   ]
  },
  {
   "cell_type": "markdown",
   "metadata": {},
   "source": [
    "#### 두 테이블을 Join한 View 생성"
   ]
  },
  {
   "cell_type": "code",
   "execution_count": 12,
   "metadata": {},
   "outputs": [],
   "source": [
    "sql = \"\"\"\n",
    "    CREATE VIEW new_sales_book as \n",
    "        SELECT sid, sdate, scompany, pid, pname, pcategory, pprice, sunit, pcost,\n",
    "            pprice*sunit AS revenue, (pprice-pcost)*sunit AS profit\n",
    "        FROM new_sales\n",
    "        JOIN new_products\n",
    "        ON new_sales.spid = new_products.pid\n",
    "        ORDER BY sdate;\n",
    "\"\"\""
   ]
  },
  {
   "cell_type": "code",
   "execution_count": 13,
   "metadata": {},
   "outputs": [
    {
     "data": {
      "text/plain": [
       "0"
      ]
     },
     "execution_count": 13,
     "metadata": {},
     "output_type": "execute_result"
    }
   ],
   "source": [
    "cur = conn.cursor()\n",
    "cur.execute(sql)"
   ]
  },
  {
   "cell_type": "markdown",
   "metadata": {},
   "source": [
    "#### 데이터를 sales_book.csv로 저장"
   ]
  },
  {
   "cell_type": "code",
   "execution_count": 14,
   "metadata": {},
   "outputs": [],
   "source": [
    "sql = \"SELECT * FROM new_sales_book\"\n",
    "cur.execute(sql)\n",
    "results = cur.fetchall()"
   ]
  },
  {
   "cell_type": "code",
   "execution_count": 15,
   "metadata": {},
   "outputs": [
    {
     "name": "stdout",
     "output_type": "stream",
     "text": [
      "<class 'pandas.core.frame.DataFrame'>\n",
      "RangeIndex: 120 entries, 0 to 119\n",
      "Data columns (total 11 columns):\n",
      " #   Column  Non-Null Count  Dtype \n",
      "---  ------  --------------  ----- \n",
      " 0   0       120 non-null    int64 \n",
      " 1   1       120 non-null    object\n",
      " 2   2       120 non-null    object\n",
      " 3   3       120 non-null    int64 \n",
      " 4   4       120 non-null    object\n",
      " 5   5       120 non-null    object\n",
      " 6   6       120 non-null    int64 \n",
      " 7   7       120 non-null    int64 \n",
      " 8   8       120 non-null    int64 \n",
      " 9   9       120 non-null    int64 \n",
      " 10  10      120 non-null    int64 \n",
      "dtypes: int64(7), object(4)\n",
      "memory usage: 10.4+ KB\n"
     ]
    }
   ],
   "source": [
    "import pandas as pd\n",
    "\n",
    "df = pd.DataFrame(data=results)\n",
    "df.info()"
   ]
  },
  {
   "cell_type": "code",
   "execution_count": 16,
   "metadata": {},
   "outputs": [
    {
     "data": {
      "text/html": [
       "<div>\n",
       "<style scoped>\n",
       "    .dataframe tbody tr th:only-of-type {\n",
       "        vertical-align: middle;\n",
       "    }\n",
       "\n",
       "    .dataframe tbody tr th {\n",
       "        vertical-align: top;\n",
       "    }\n",
       "\n",
       "    .dataframe thead th {\n",
       "        text-align: right;\n",
       "    }\n",
       "</style>\n",
       "<table border=\"1\" class=\"dataframe\">\n",
       "  <thead>\n",
       "    <tr style=\"text-align: right;\">\n",
       "      <th></th>\n",
       "      <th>0</th>\n",
       "      <th>1</th>\n",
       "      <th>2</th>\n",
       "      <th>3</th>\n",
       "      <th>4</th>\n",
       "      <th>5</th>\n",
       "      <th>6</th>\n",
       "      <th>7</th>\n",
       "      <th>8</th>\n",
       "      <th>9</th>\n",
       "      <th>10</th>\n",
       "    </tr>\n",
       "  </thead>\n",
       "  <tbody>\n",
       "    <tr>\n",
       "      <th>0</th>\n",
       "      <td>104</td>\n",
       "      <td>2022-01-05</td>\n",
       "      <td>멀티캠퍼스</td>\n",
       "      <td>22</td>\n",
       "      <td>내비게이션</td>\n",
       "      <td>자동차용품</td>\n",
       "      <td>44500</td>\n",
       "      <td>18</td>\n",
       "      <td>42280</td>\n",
       "      <td>801000</td>\n",
       "      <td>39960</td>\n",
       "    </tr>\n",
       "    <tr>\n",
       "      <th>1</th>\n",
       "      <td>101</td>\n",
       "      <td>2022-01-07</td>\n",
       "      <td>한경아카데미</td>\n",
       "      <td>19</td>\n",
       "      <td>보조배터리</td>\n",
       "      <td>캠핑용품</td>\n",
       "      <td>75000</td>\n",
       "      <td>8</td>\n",
       "      <td>69000</td>\n",
       "      <td>600000</td>\n",
       "      <td>48000</td>\n",
       "    </tr>\n",
       "    <tr>\n",
       "      <th>2</th>\n",
       "      <td>109</td>\n",
       "      <td>2022-01-08</td>\n",
       "      <td>생산성본부</td>\n",
       "      <td>17</td>\n",
       "      <td>취사용품</td>\n",
       "      <td>캠핑용품</td>\n",
       "      <td>57800</td>\n",
       "      <td>18</td>\n",
       "      <td>49710</td>\n",
       "      <td>1040400</td>\n",
       "      <td>145620</td>\n",
       "    </tr>\n",
       "    <tr>\n",
       "      <th>3</th>\n",
       "      <td>102</td>\n",
       "      <td>2022-01-15</td>\n",
       "      <td>멀티캠퍼스</td>\n",
       "      <td>37</td>\n",
       "      <td>트램펄린</td>\n",
       "      <td>헬스용품</td>\n",
       "      <td>93000</td>\n",
       "      <td>2</td>\n",
       "      <td>81840</td>\n",
       "      <td>186000</td>\n",
       "      <td>22320</td>\n",
       "    </tr>\n",
       "    <tr>\n",
       "      <th>4</th>\n",
       "      <td>107</td>\n",
       "      <td>2022-01-17</td>\n",
       "      <td>멀티캠퍼스</td>\n",
       "      <td>28</td>\n",
       "      <td>헤드유닛</td>\n",
       "      <td>자동차용품</td>\n",
       "      <td>21800</td>\n",
       "      <td>19</td>\n",
       "      <td>20710</td>\n",
       "      <td>414200</td>\n",
       "      <td>20710</td>\n",
       "    </tr>\n",
       "  </tbody>\n",
       "</table>\n",
       "</div>"
      ],
      "text/plain": [
       "    0           1       2   3      4      5      6   7      8        9   \\\n",
       "0  104  2022-01-05   멀티캠퍼스  22  내비게이션  자동차용품  44500  18  42280   801000   \n",
       "1  101  2022-01-07  한경아카데미  19  보조배터리   캠핑용품  75000   8  69000   600000   \n",
       "2  109  2022-01-08   생산성본부  17   취사용품   캠핑용품  57800  18  49710  1040400   \n",
       "3  102  2022-01-15   멀티캠퍼스  37   트램펄린   헬스용품  93000   2  81840   186000   \n",
       "4  107  2022-01-17   멀티캠퍼스  28   헤드유닛  자동차용품  21800  19  20710   414200   \n",
       "\n",
       "       10  \n",
       "0   39960  \n",
       "1   48000  \n",
       "2  145620  \n",
       "3   22320  \n",
       "4   20710  "
      ]
     },
     "execution_count": 16,
     "metadata": {},
     "output_type": "execute_result"
    }
   ],
   "source": [
    "df.head()"
   ]
  },
  {
   "cell_type": "code",
   "execution_count": 17,
   "metadata": {},
   "outputs": [],
   "source": [
    "del df[3]\n",
    "del df[0]"
   ]
  },
  {
   "cell_type": "code",
   "execution_count": 18,
   "metadata": {},
   "outputs": [
    {
     "name": "stdout",
     "output_type": "stream",
     "text": [
      "<class 'pandas.core.frame.DataFrame'>\n",
      "RangeIndex: 120 entries, 0 to 119\n",
      "Data columns (total 9 columns):\n",
      " #   Column  Non-Null Count  Dtype \n",
      "---  ------  --------------  ----- \n",
      " 0   판매일자    120 non-null    object\n",
      " 1   판매처     120 non-null    object\n",
      " 2   상품명     120 non-null    object\n",
      " 3   카테고리    120 non-null    object\n",
      " 4   단가      120 non-null    int64 \n",
      " 5   수량      120 non-null    int64 \n",
      " 6   원가      120 non-null    int64 \n",
      " 7   매출      120 non-null    int64 \n",
      " 8   이익      120 non-null    int64 \n",
      "dtypes: int64(5), object(4)\n",
      "memory usage: 8.6+ KB\n"
     ]
    }
   ],
   "source": [
    "df.columns = ['판매일자', '판매처', '상품명', '카테고리', '단가', '수량', '원가', '매출', '이익']\n",
    "df.info()"
   ]
  },
  {
   "cell_type": "code",
   "execution_count": 19,
   "metadata": {},
   "outputs": [
    {
     "data": {
      "text/html": [
       "<div>\n",
       "<style scoped>\n",
       "    .dataframe tbody tr th:only-of-type {\n",
       "        vertical-align: middle;\n",
       "    }\n",
       "\n",
       "    .dataframe tbody tr th {\n",
       "        vertical-align: top;\n",
       "    }\n",
       "\n",
       "    .dataframe thead th {\n",
       "        text-align: right;\n",
       "    }\n",
       "</style>\n",
       "<table border=\"1\" class=\"dataframe\">\n",
       "  <thead>\n",
       "    <tr style=\"text-align: right;\">\n",
       "      <th></th>\n",
       "      <th>판매일자</th>\n",
       "      <th>판매처</th>\n",
       "      <th>상품명</th>\n",
       "      <th>카테고리</th>\n",
       "      <th>단가</th>\n",
       "      <th>수량</th>\n",
       "      <th>원가</th>\n",
       "      <th>매출</th>\n",
       "      <th>이익</th>\n",
       "    </tr>\n",
       "  </thead>\n",
       "  <tbody>\n",
       "    <tr>\n",
       "      <th>0</th>\n",
       "      <td>2022-01-05</td>\n",
       "      <td>멀티캠퍼스</td>\n",
       "      <td>내비게이션</td>\n",
       "      <td>자동차용품</td>\n",
       "      <td>44500</td>\n",
       "      <td>18</td>\n",
       "      <td>42280</td>\n",
       "      <td>801000</td>\n",
       "      <td>39960</td>\n",
       "    </tr>\n",
       "    <tr>\n",
       "      <th>1</th>\n",
       "      <td>2022-01-07</td>\n",
       "      <td>한경아카데미</td>\n",
       "      <td>보조배터리</td>\n",
       "      <td>캠핑용품</td>\n",
       "      <td>75000</td>\n",
       "      <td>8</td>\n",
       "      <td>69000</td>\n",
       "      <td>600000</td>\n",
       "      <td>48000</td>\n",
       "    </tr>\n",
       "    <tr>\n",
       "      <th>2</th>\n",
       "      <td>2022-01-08</td>\n",
       "      <td>생산성본부</td>\n",
       "      <td>취사용품</td>\n",
       "      <td>캠핑용품</td>\n",
       "      <td>57800</td>\n",
       "      <td>18</td>\n",
       "      <td>49710</td>\n",
       "      <td>1040400</td>\n",
       "      <td>145620</td>\n",
       "    </tr>\n",
       "    <tr>\n",
       "      <th>3</th>\n",
       "      <td>2022-01-15</td>\n",
       "      <td>멀티캠퍼스</td>\n",
       "      <td>트램펄린</td>\n",
       "      <td>헬스용품</td>\n",
       "      <td>93000</td>\n",
       "      <td>2</td>\n",
       "      <td>81840</td>\n",
       "      <td>186000</td>\n",
       "      <td>22320</td>\n",
       "    </tr>\n",
       "    <tr>\n",
       "      <th>4</th>\n",
       "      <td>2022-01-17</td>\n",
       "      <td>멀티캠퍼스</td>\n",
       "      <td>헤드유닛</td>\n",
       "      <td>자동차용품</td>\n",
       "      <td>21800</td>\n",
       "      <td>19</td>\n",
       "      <td>20710</td>\n",
       "      <td>414200</td>\n",
       "      <td>20710</td>\n",
       "    </tr>\n",
       "  </tbody>\n",
       "</table>\n",
       "</div>"
      ],
      "text/plain": [
       "         판매일자     판매처    상품명   카테고리     단가  수량     원가       매출      이익\n",
       "0  2022-01-05   멀티캠퍼스  내비게이션  자동차용품  44500  18  42280   801000   39960\n",
       "1  2022-01-07  한경아카데미  보조배터리   캠핑용품  75000   8  69000   600000   48000\n",
       "2  2022-01-08   생산성본부   취사용품   캠핑용품  57800  18  49710  1040400  145620\n",
       "3  2022-01-15   멀티캠퍼스   트램펄린   헬스용품  93000   2  81840   186000   22320\n",
       "4  2022-01-17   멀티캠퍼스   헤드유닛  자동차용품  21800  19  20710   414200   20710"
      ]
     },
     "execution_count": 19,
     "metadata": {},
     "output_type": "execute_result"
    }
   ],
   "source": [
    "df.head()"
   ]
  },
  {
   "cell_type": "code",
   "execution_count": 20,
   "metadata": {},
   "outputs": [],
   "source": [
    "df.to_csv('sales_book.csv', index=False)"
   ]
  },
  {
   "cell_type": "markdown",
   "metadata": {},
   "source": [
    "#### 마무리"
   ]
  },
  {
   "cell_type": "code",
   "execution_count": 21,
   "metadata": {},
   "outputs": [],
   "source": [
    "cur.close()\n",
    "conn.close()"
   ]
  },
  {
   "cell_type": "code",
   "execution_count": null,
   "metadata": {},
   "outputs": [],
   "source": []
  }
 ],
 "metadata": {
  "kernelspec": {
   "display_name": "Python 3.8.8 ('base')",
   "language": "python",
   "name": "python3"
  },
  "language_info": {
   "codemirror_mode": {
    "name": "ipython",
    "version": 3
   },
   "file_extension": ".py",
   "mimetype": "text/x-python",
   "name": "python",
   "nbconvert_exporter": "python",
   "pygments_lexer": "ipython3",
   "version": "3.8.8"
  },
  "orig_nbformat": 4,
  "vscode": {
   "interpreter": {
    "hash": "9e765a96e5f40489db376370017179d79de916a29247b681d0d65e2e01ae9302"
   }
  }
 },
 "nbformat": 4,
 "nbformat_minor": 2
}
