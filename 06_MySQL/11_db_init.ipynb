{
 "cells": [
  {
   "cell_type": "code",
   "execution_count": null,
   "metadata": {},
   "outputs": [],
   "source": []
  },
  {
   "cell_type": "markdown",
   "metadata": {},
   "source": [
    "#### DB 초기화 프로그램"
   ]
  },
  {
   "cell_type": "code",
   "execution_count": 3,
   "metadata": {},
   "outputs": [
    {
     "data": {
      "text/plain": [
       "{'host': '140.238.202.82',\n",
       " 'user': 'mcuser',\n",
       " 'password': 'Gratis2021!',\n",
       " 'database': 'mcdb',\n",
       " 'port': 3306}"
      ]
     },
     "execution_count": 3,
     "metadata": {},
     "output_type": "execute_result"
    }
   ],
   "source": [
    "import pymysql\n",
    "import json\n",
    "\n",
    "with open('../mysql.json') as fp:\n",
    "    config_str = fp.read()\n",
    "config = json.loads(config_str)\n",
    "\n",
    "config"
   ]
  },
  {
   "cell_type": "code",
   "execution_count": 4,
   "metadata": {},
   "outputs": [],
   "source": [
    "conn = pymysql.connect(host=config['host'], user=config['user'], password=config['password'],\n",
    "                       database=config['database'], port=config['port'])"
   ]
  },
  {
   "cell_type": "markdown",
   "metadata": {},
   "source": [
    "#### new_products 테이블"
   ]
  },
  {
   "cell_type": "code",
   "execution_count": 8,
   "metadata": {},
   "outputs": [],
   "source": [
    "# products 테이블 생성 sql\n",
    "sql = \"\"\"\n",
    "    CREATE TABLE if NOT exists new_products(\n",
    "        pid INT PRIMARY KEY AUTO_INCREMENT,\n",
    "        pname VARCHAR(40) NOT NULL,\n",
    "        pprice INT UNSIGNED NOT NULL,\n",
    "        pcategory VARCHAR(20) NOT NULL,\n",
    "        pcost INT UNSIGNED NOT NULL\n",
    "    ) AUTO_INCREMENT=11;\n",
    "\"\"\""
   ]
  },
  {
   "cell_type": "code",
   "execution_count": 9,
   "metadata": {},
   "outputs": [
    {
     "data": {
      "text/plain": [
       "0"
      ]
     },
     "execution_count": 9,
     "metadata": {},
     "output_type": "execute_result"
    }
   ],
   "source": [
    "cur = conn.cursor()\n",
    "cur.execute(sql)"
   ]
  },
  {
   "cell_type": "code",
   "execution_count": 14,
   "metadata": {},
   "outputs": [],
   "source": [
    "camping_goods = ['텐트','타프','천막','침낭','매트','랜턴','취사용품','아이스박스','보조배터리','워터저그']\n",
    "car_goods = ['블랙박스','내비게이션','하이패스','후방카메라','자동차TV','카오디오','핸즈프리','헤드유닛','방진매트','윤활방청제']\n",
    "health_goods = ['러닝머신','웨이트기구','복근운동기구','벨트','거꾸리','훌라후프','트램펄린','스텝퍼','로잉머신','헬스사이클']\n",
    "category_names = ['캠핑용품','자동차용품','헬스용품']"
   ]
  },
  {
   "cell_type": "code",
   "execution_count": 16,
   "metadata": {},
   "outputs": [
    {
     "data": {
      "text/plain": [
       "[10, 10, 10, 3]"
      ]
     },
     "execution_count": 16,
     "metadata": {},
     "output_type": "execute_result"
    }
   ],
   "source": [
    "[len(x) for x in [camping_goods, car_goods, health_goods, category_names]]"
   ]
  },
  {
   "cell_type": "code",
   "execution_count": 17,
   "metadata": {},
   "outputs": [
    {
     "name": "stdout",
     "output_type": "stream",
     "text": [
      "텐트 95600 캠핑 87000\n",
      "타프 97800 캠핑 92910\n",
      "천막 65700 캠핑 58470\n",
      "침낭 35300 캠핑 33540\n",
      "매트 13500 캠핑 12420\n",
      "랜턴 58500 캠핑 54990\n",
      "취사용품 16500 캠핑 14850\n",
      "아이스박스 37600 캠핑 33460\n",
      "보조배터리 58600 캠핑 50400\n",
      "워터저그 26500 캠핑 23060\n"
     ]
    }
   ],
   "source": [
    "import random\n",
    "random.seed(2021)\n",
    "\n",
    "for item in camping_goods:\n",
    "    price = random.randint(100, 999) * 100\n",
    "    rate = random.randint(85, 98)\n",
    "    cost = int(round(price * rate / 1000) * 10)\n",
    "    print(item, price, \"캠핑\", cost)"
   ]
  },
  {
   "cell_type": "code",
   "execution_count": 18,
   "metadata": {},
   "outputs": [],
   "source": [
    "sql = \"insert into new_products(pname, pprice, pcategory, pcost) values(%s, %s, %s, %s);\"\n",
    "for i, item_list in enumerate([camping_goods, car_goods, health_goods]):\n",
    "    for item in item_list:\n",
    "        price = random.randint(100, 999) * 100\n",
    "        rate = random.randint(85, 98)\n",
    "        cost = int(round(price * rate / 1000) * 10)\n",
    "        cur.execute(sql, (item, price, category_names[i], cost))\n",
    "conn.commit()"
   ]
  },
  {
   "cell_type": "markdown",
   "metadata": {},
   "source": [
    "#### new_sales 테이블"
   ]
  },
  {
   "cell_type": "code",
   "execution_count": 1,
   "metadata": {},
   "outputs": [],
   "source": [
    "# spid를  외래키(foreign key)로 설정\n",
    "sql = \"\"\"\n",
    "    CREATE TABLE if NOT exists new_sales(\n",
    "        sid INT PRIMARY KEY AUTO_INCREMENT,\n",
    "        sdate DATE NOT NULL,\n",
    "        scompany VARCHAR(20) NOT NULL,\n",
    "        spid INT NOT NULL,\n",
    "        sunit INT NOT NULL,\n",
    "        FOREIGN KEY(spid) REFERENCES new_products(pid)\n",
    "    ) AUTO_INCREMENT=101;\n",
    "\"\"\""
   ]
  },
  {
   "cell_type": "code",
   "execution_count": 5,
   "metadata": {},
   "outputs": [
    {
     "data": {
      "text/plain": [
       "0"
      ]
     },
     "execution_count": 5,
     "metadata": {},
     "output_type": "execute_result"
    }
   ],
   "source": [
    "cur = conn.cursor()\n",
    "cur.execute(sql)"
   ]
  },
  {
   "cell_type": "code",
   "execution_count": 10,
   "metadata": {},
   "outputs": [
    {
     "name": "stdout",
     "output_type": "stream",
     "text": [
      "2022-1-18 테크브루 27 16\n",
      "2022-1-4 생산성본부 12 14\n",
      "2022-1-17 한경아카데미 16 19\n",
      "2022-1-2 한경아카데미 38 15\n",
      "2022-1-3 테크브루 18 13\n",
      "2022-1-16 표준협회 24 12\n",
      "2022-1-31 테크브루 27 17\n",
      "2022-1-6 테크브루 29 5\n",
      "2022-1-10 표준협회 38 18\n",
      "2022-1-14 표준협회 22 10\n"
     ]
    }
   ],
   "source": [
    "calendar = {1:31, 2:29, 3:31, 4:30, 5:31, 6:30, 7:31, 8:31, 9:30, 10:31, 11:30, 12:31}\n",
    "company_list = ['멀티캠퍼스', '한경아카데미', '표준협회', '생산성본부', '테크브루']\n",
    "\n",
    "for i in range(10):\n",
    "    date = f'2022-1-{random.randint(1,31)}'\n",
    "    company = company_list[random.randint(0,4)]\n",
    "    pid = random.randint(11, 40)\n",
    "    unit = random.randint(1, 20)\n",
    "    print(date, company, pid, unit)"
   ]
  },
  {
   "cell_type": "code",
   "execution_count": 11,
   "metadata": {},
   "outputs": [],
   "source": [
    "sql = \"INSERT INTO new_sales VALUES(default, %s, %s, %s, %s);\"\n",
    "\n",
    "for month, day in calendar.items():\n",
    "    for i in range(10):\n",
    "        date = f'2022-{month}-{random.randint(1, day)}'\n",
    "        company = company_list[random.randint(0,4)]\n",
    "        pid = random.randint(11, 40)\n",
    "        unit = random.randint(1,20)\n",
    "        cur.execute(sql, (date, company, pid, unit))\n",
    "conn.commit()"
   ]
  },
  {
   "cell_type": "code",
   "execution_count": null,
   "metadata": {},
   "outputs": [],
   "source": []
  }
 ],
 "metadata": {
  "kernelspec": {
   "display_name": "Python 3.8.8 ('base')",
   "language": "python",
   "name": "python3"
  },
  "language_info": {
   "codemirror_mode": {
    "name": "ipython",
    "version": 3
   },
   "file_extension": ".py",
   "mimetype": "text/x-python",
   "name": "python",
   "nbconvert_exporter": "python",
   "pygments_lexer": "ipython3",
   "version": "3.8.8"
  },
  "orig_nbformat": 4,
  "vscode": {
   "interpreter": {
    "hash": "9e765a96e5f40489db376370017179d79de916a29247b681d0d65e2e01ae9302"
   }
  }
 },
 "nbformat": 4,
 "nbformat_minor": 2
}
