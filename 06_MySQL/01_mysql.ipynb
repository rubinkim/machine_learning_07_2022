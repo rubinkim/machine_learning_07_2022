{
 "cells": [
  {
   "cell_type": "code",
   "execution_count": 3,
   "metadata": {},
   "outputs": [],
   "source": [
    "import pymysql\n",
    "import json"
   ]
  },
  {
   "cell_type": "code",
   "execution_count": 12,
   "metadata": {},
   "outputs": [
    {
     "data": {
      "text/plain": [
       "{'host': '140.238.202.82',\n",
       " 'user': 'mcuser',\n",
       " 'password': 'Gratis2021!',\n",
       " 'database': 'mcdb',\n",
       " 'port': 3306}"
      ]
     },
     "execution_count": 12,
     "metadata": {},
     "output_type": "execute_result"
    }
   ],
   "source": [
    "with open('../mysql.json') as fp:\n",
    "    config_str = fp.read()\n",
    "config = json.loads(config_str)\n",
    "\n",
    "config"
   ]
  },
  {
   "cell_type": "code",
   "execution_count": 17,
   "metadata": {},
   "outputs": [],
   "source": [
    "conn = pymysql.connect(\n",
    "    host = config['host'],\n",
    "    user = config['user'],\n",
    "    password = config['password'],\n",
    "    database = config['database'],\n",
    "    port = config['port']\n",
    ")"
   ]
  },
  {
   "cell_type": "code",
   "execution_count": 18,
   "metadata": {},
   "outputs": [
    {
     "data": {
      "text/plain": [
       "8"
      ]
     },
     "execution_count": 18,
     "metadata": {},
     "output_type": "execute_result"
    }
   ],
   "source": [
    "cur = conn.cursor()\n",
    "sql = \"SELECT id, date_format(dt, '%Y-%m-%d %H:%i') AS my_date FROM date_table;\"\n",
    "cur.execute(sql)"
   ]
  },
  {
   "cell_type": "code",
   "execution_count": 19,
   "metadata": {},
   "outputs": [
    {
     "name": "stdout",
     "output_type": "stream",
     "text": [
      "(1, '2017-08-28 17:22')\n",
      "(2, '2017-02-15 10:22')\n",
      "(3, '2017-12-09 22:13')\n",
      "(4, '2018-07-06 20:15')\n",
      "(5, '2021-08-24 15:01')\n",
      "(6, '2021-08-25 00:04')\n",
      "(7, '2021-08-25 12:35')\n",
      "(8, '2022-08-15 05:24')\n"
     ]
    }
   ],
   "source": [
    "for row in cur.fetchall():\n",
    "    print(row)"
   ]
  },
  {
   "cell_type": "code",
   "execution_count": 22,
   "metadata": {},
   "outputs": [
    {
     "data": {
      "text/plain": [
       "10"
      ]
     },
     "execution_count": 22,
     "metadata": {},
     "output_type": "execute_result"
    }
   ],
   "source": [
    "sql = '''\n",
    "    SELECT * FROM city WHERE district='경기'\n",
    "    ORDER BY population DESC\n",
    "    LIMIT 10;\n",
    "'''\n",
    "\n",
    "cur.execute(sql)"
   ]
  },
  {
   "cell_type": "code",
   "execution_count": 23,
   "metadata": {},
   "outputs": [
    {
     "name": "stdout",
     "output_type": "stream",
     "text": [
      "(2338, 'Songnam', 'KOR', '경기', 869094)\n",
      "(2339, 'Puchon', 'KOR', '경기', 779412)\n",
      "(2340, 'Suwon', 'KOR', '경기', 755550)\n",
      "(2341, 'Anyang', 'KOR', '경기', 591106)\n",
      "(2344, 'Koyang', 'KOR', '경기', 518282)\n",
      "(2345, 'Ansan', 'KOR', '경기', 510314)\n",
      "(2349, 'Kwangmyong', 'KOR', '경기', 350914)\n",
      "(2353, 'Pyongtaek', 'KOR', '경기', 312927)\n",
      "(2355, 'Uijongbu', 'KOR', '경기', 276111)\n",
      "(2362, 'Yong-in', 'KOR', '경기', 242643)\n"
     ]
    }
   ],
   "source": [
    "for row in cur.fetchall():\n",
    "    print(row)"
   ]
  },
  {
   "cell_type": "code",
   "execution_count": 24,
   "metadata": {},
   "outputs": [],
   "source": [
    "cur.close()\n",
    "conn.close()"
   ]
  },
  {
   "cell_type": "code",
   "execution_count": null,
   "metadata": {},
   "outputs": [],
   "source": []
  }
 ],
 "metadata": {
  "kernelspec": {
   "display_name": "Python 3.8.8 ('base')",
   "language": "python",
   "name": "python3"
  },
  "language_info": {
   "codemirror_mode": {
    "name": "ipython",
    "version": 3
   },
   "file_extension": ".py",
   "mimetype": "text/x-python",
   "name": "python",
   "nbconvert_exporter": "python",
   "pygments_lexer": "ipython3",
   "version": "3.8.8"
  },
  "orig_nbformat": 4,
  "vscode": {
   "interpreter": {
    "hash": "9e765a96e5f40489db376370017179d79de916a29247b681d0d65e2e01ae9302"
   }
  }
 },
 "nbformat": 4,
 "nbformat_minor": 2
}
