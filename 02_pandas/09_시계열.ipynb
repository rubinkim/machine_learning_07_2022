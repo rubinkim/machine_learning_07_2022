{
 "cells": [
  {
   "cell_type": "markdown",
   "metadata": {},
   "source": [
    "#### 시계열 자료 구하기"
   ]
  },
  {
   "cell_type": "code",
   "execution_count": 1,
   "metadata": {},
   "outputs": [],
   "source": [
    "import numpy as np\n",
    "import pandas as pd"
   ]
  },
  {
   "cell_type": "markdown",
   "metadata": {},
   "source": [
    "##### DatetimeIndex 인덱스"
   ]
  },
  {
   "cell_type": "code",
   "execution_count": 2,
   "metadata": {},
   "outputs": [
    {
     "data": {
      "text/plain": [
       "DatetimeIndex(['2021-08-10', '2021-08-11', '2021-08-12', '2021-08-13',\n",
       "               '2021-08-14', '2021-08-15'],\n",
       "              dtype='datetime64[ns]', freq=None)"
      ]
     },
     "execution_count": 2,
     "metadata": {},
     "output_type": "execute_result"
    }
   ],
   "source": [
    "date_str = ['2021, 8, 10', '2021-8-11', '20210812', '2021.8.13', '8/14/21', '081521']\n",
    "idx = pd.to_datetime(date_str)\n",
    "idx"
   ]
  },
  {
   "cell_type": "code",
   "execution_count": 3,
   "metadata": {},
   "outputs": [
    {
     "data": {
      "text/plain": [
       "2021-08-10    1.488609\n",
       "2021-08-11    0.676011\n",
       "2021-08-12   -0.418451\n",
       "2021-08-13   -0.806521\n",
       "2021-08-14    0.555876\n",
       "2021-08-15   -0.705504\n",
       "dtype: float64"
      ]
     },
     "execution_count": 3,
     "metadata": {},
     "output_type": "execute_result"
    }
   ],
   "source": [
    "np.random.seed(2021)\n",
    "s = pd.Series(data=np.random.randn(6), index=idx)\n",
    "s"
   ]
  },
  {
   "cell_type": "code",
   "execution_count": 7,
   "metadata": {},
   "outputs": [
    {
     "data": {
      "text/plain": [
       "DatetimeIndex(['2021-08-01', '2021-08-02', '2021-08-03', '2021-08-04',\n",
       "               '2021-08-05', '2021-08-06', '2021-08-07', '2021-08-08',\n",
       "               '2021-08-09', '2021-08-10', '2021-08-11', '2021-08-12',\n",
       "               '2021-08-13', '2021-08-14', '2021-08-15', '2021-08-16',\n",
       "               '2021-08-17', '2021-08-18', '2021-08-19', '2021-08-20',\n",
       "               '2021-08-21', '2021-08-22', '2021-08-23', '2021-08-24',\n",
       "               '2021-08-25', '2021-08-26', '2021-08-27', '2021-08-28',\n",
       "               '2021-08-29', '2021-08-30', '2021-08-31'],\n",
       "              dtype='datetime64[ns]', freq='D')"
      ]
     },
     "execution_count": 7,
     "metadata": {},
     "output_type": "execute_result"
    }
   ],
   "source": [
    "pd.date_range(start='20210801', end='20210831', freq='D')"
   ]
  },
  {
   "cell_type": "code",
   "execution_count": 11,
   "metadata": {},
   "outputs": [
    {
     "data": {
      "text/plain": [
       "DatetimeIndex(['2021-08-01', '2021-08-02', '2021-08-03', '2021-08-04',\n",
       "               '2021-08-05', '2021-08-06', '2021-08-07', '2021-08-08',\n",
       "               '2021-08-09', '2021-08-10', '2021-08-11', '2021-08-12',\n",
       "               '2021-08-13', '2021-08-14', '2021-08-15', '2021-08-16',\n",
       "               '2021-08-17', '2021-08-18', '2021-08-19', '2021-08-20',\n",
       "               '2021-08-21', '2021-08-22', '2021-08-23', '2021-08-24',\n",
       "               '2021-08-25', '2021-08-26', '2021-08-27', '2021-08-28',\n",
       "               '2021-08-29', '2021-08-30', '2021-08-31'],\n",
       "              dtype='datetime64[ns]', freq='D')"
      ]
     },
     "execution_count": 11,
     "metadata": {},
     "output_type": "execute_result"
    }
   ],
   "source": [
    "# 일(day)\n",
    "pd.date_range(start='08/01/2021', periods=31)   # 20210801도 가능하다."
   ]
  },
  {
   "cell_type": "code",
   "execution_count": 12,
   "metadata": {},
   "outputs": [
    {
     "data": {
      "text/plain": [
       "DatetimeIndex(['2021-08-02', '2021-08-03', '2021-08-04', '2021-08-05',\n",
       "               '2021-08-06', '2021-08-09', '2021-08-10', '2021-08-11',\n",
       "               '2021-08-12', '2021-08-13', '2021-08-16', '2021-08-17',\n",
       "               '2021-08-18', '2021-08-19', '2021-08-20', '2021-08-23',\n",
       "               '2021-08-24', '2021-08-25', '2021-08-26', '2021-08-27',\n",
       "               '2021-08-30', '2021-08-31'],\n",
       "              dtype='datetime64[ns]', freq='B')"
      ]
     },
     "execution_count": 12,
     "metadata": {},
     "output_type": "execute_result"
    }
   ],
   "source": [
    "# Biz-day\n",
    "pd.date_range(start='20210801', freq='B', periods=22)"
   ]
  },
  {
   "cell_type": "code",
   "execution_count": 13,
   "metadata": {},
   "outputs": [
    {
     "data": {
      "text/plain": [
       "DatetimeIndex(['2022-08-07', '2022-08-14', '2022-08-21', '2022-08-28',\n",
       "               '2022-09-04', '2022-09-11', '2022-09-18', '2022-09-25',\n",
       "               '2022-10-02', '2022-10-09', '2022-10-16', '2022-10-23',\n",
       "               '2022-10-30', '2022-11-06', '2022-11-13', '2022-11-20',\n",
       "               '2022-11-27', '2022-12-04', '2022-12-11', '2022-12-18',\n",
       "               '2022-12-25'],\n",
       "              dtype='datetime64[ns]', freq='W-SUN')"
      ]
     },
     "execution_count": 13,
     "metadata": {},
     "output_type": "execute_result"
    }
   ],
   "source": [
    "# 일요일 (W)\n",
    "pd.date_range(start='08/01/2022', end='12/31/2022', freq='W')"
   ]
  },
  {
   "cell_type": "code",
   "execution_count": null,
   "metadata": {},
   "outputs": [],
   "source": []
  }
 ],
 "metadata": {
  "kernelspec": {
   "display_name": "Python 3.8.8 ('base')",
   "language": "python",
   "name": "python3"
  },
  "language_info": {
   "codemirror_mode": {
    "name": "ipython",
    "version": 3
   },
   "file_extension": ".py",
   "mimetype": "text/x-python",
   "name": "python",
   "nbconvert_exporter": "python",
   "pygments_lexer": "ipython3",
   "version": "3.8.8"
  },
  "orig_nbformat": 4,
  "vscode": {
   "interpreter": {
    "hash": "9e765a96e5f40489db376370017179d79de916a29247b681d0d65e2e01ae9302"
   }
  }
 },
 "nbformat": 4,
 "nbformat_minor": 2
}
