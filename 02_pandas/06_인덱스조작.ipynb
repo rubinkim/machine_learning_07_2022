{
 "cells": [
  {
   "cell_type": "markdown",
   "metadata": {},
   "source": [
    "##### 데이터프레임 인덱스 조작"
   ]
  },
  {
   "cell_type": "code",
   "execution_count": 1,
   "metadata": {},
   "outputs": [],
   "source": [
    "import numpy as np\n",
    "import pandas as pd"
   ]
  },
  {
   "cell_type": "markdown",
   "metadata": {},
   "source": [
    "##### 인덱스 설정 및 제거"
   ]
  },
  {
   "cell_type": "code",
   "execution_count": 2,
   "metadata": {},
   "outputs": [
    {
     "data": {
      "text/plain": [
       "['A', 'B', 'C', 'D']"
      ]
     },
     "execution_count": 2,
     "metadata": {},
     "output_type": "execute_result"
    }
   ],
   "source": [
    "list('ABCD')"
   ]
  },
  {
   "cell_type": "code",
   "execution_count": 17,
   "metadata": {},
   "outputs": [
    {
     "name": "stdout",
     "output_type": "stream",
     "text": [
      "[9 8 9 5 7 5 9 4 6 5]\n"
     ]
    }
   ],
   "source": [
    "# random.randint(low, high=None, size=None, dtype=int)\n",
    "np.random.seed(123)\n",
    "\n",
    "low, high = 3, 10\n",
    "\n",
    "sample_10 = np.random.randint(low=low, high=high, size=10)\n",
    "print(sample_10)"
   ]
  },
  {
   "cell_type": "code",
   "execution_count": 21,
   "metadata": {},
   "outputs": [
    {
     "name": "stdout",
     "output_type": "stream",
     "text": [
      "[[-1.10098526 -1.4103012  -0.74765132 -0.98486761 -0.74856868]\n",
      " [ 0.24036728 -1.85563747 -1.7794548  -2.75022426 -0.23415755]]\n",
      "[[-1.1  -1.41 -0.75 -0.98 -0.75]\n",
      " [ 0.24 -1.86 -1.78 -2.75 -0.23]]\n"
     ]
    }
   ],
   "source": [
    "# random.randn(d0, d1, ..., dn) : standard normal dist에서 원하는 차원의 난수들을 생성\n",
    "sample_2_5 = np.random.randn(2,5)\n",
    "print(sample_2_5)\n",
    "print(np.round(sample_2_5, 2))"
   ]
  },
  {
   "cell_type": "code",
   "execution_count": 22,
   "metadata": {},
   "outputs": [
    {
     "name": "stdout",
     "output_type": "stream",
     "text": [
      "[[0.31226122 0.42635131 0.89338916 0.94416002 0.50183668]\n",
      " [0.62395295 0.1156184  0.31728548 0.41482621 0.86630916]\n",
      " [0.25045537 0.48303426 0.98555979 0.51948512 0.61289453]]\n",
      "[[0.31 0.43 0.89 0.94 0.5 ]\n",
      " [0.62 0.12 0.32 0.41 0.87]\n",
      " [0.25 0.48 0.99 0.52 0.61]]\n"
     ]
    }
   ],
   "source": [
    "# random.rand(d0, d1, ..., dn) : [0, 1)구간의 uniform dist에서 원하는 차원의 난수들을 생성\n",
    "sample_3_5 = np.random.rand(3,5)\n",
    "print(sample_3_5)\n",
    "print(np.round(sample_3_5, 2))"
   ]
  },
  {
   "cell_type": "code",
   "execution_count": 25,
   "metadata": {},
   "outputs": [
    {
     "name": "stdout",
     "output_type": "stream",
     "text": [
      "[8, 2, 7, 6, 5, 0, 9, 3, 4, 1]\n"
     ]
    }
   ],
   "source": [
    "# random.shuffle(x) : modify a sequence in-place by shuffling its contents\n",
    "np.random.seed(123)\n",
    "x = [2,9,1,0,8,6,3,7,5,4]\n",
    "np.random.shuffle(x)\n",
    "print(x)"
   ]
  },
  {
   "cell_type": "code",
   "execution_count": 14,
   "metadata": {},
   "outputs": [
    {
     "name": "stdout",
     "output_type": "stream",
     "text": [
      "[12  6 20  0]\n",
      "[20 12  0  6  6 12  0  2  6]\n"
     ]
    }
   ],
   "source": [
    "# random.choice(a, size=None, replace=True, p=None)\n",
    "np.random.seed(123)\n",
    "\n",
    "a = [2,6,0,12,20]\n",
    "p = [0.2, 0.2, 0.15, 0.25, 0.2]\n",
    "\n",
    "sample_3_no_repl = np.random.choice(a=a, size=4, replace=False, p=p)\n",
    "print(sample_3_no_repl)\n",
    "\n",
    "sample_8_repl = np.random.choice(a=a, size=9, replace=True, p=p)\n",
    "print(sample_8_repl)"
   ]
  },
  {
   "cell_type": "code",
   "execution_count": 26,
   "metadata": {},
   "outputs": [
    {
     "name": "stdout",
     "output_type": "stream",
     "text": [
      "[8 2 7 6 5 0 9 3 4 1]\n"
     ]
    }
   ],
   "source": [
    "# random.permutation(x) : randomly permutes a sequence\n",
    "np.random.seed(123)\n",
    "x = [2,9,1,0,8,6,3,7,5,4]\n",
    "perm_x = np.random.permutation(x)\n",
    "print(perm_x)"
   ]
  },
  {
   "cell_type": "markdown",
   "metadata": {},
   "source": [
    "##### np.random에는 np.random.noraml, standard_t, poisson, exponential, chisquare, uniform, ...등이 있다."
   ]
  },
  {
   "cell_type": "code",
   "execution_count": null,
   "metadata": {},
   "outputs": [],
   "source": []
  },
  {
   "cell_type": "code",
   "execution_count": null,
   "metadata": {},
   "outputs": [],
   "source": []
  }
 ],
 "metadata": {
  "kernelspec": {
   "display_name": "Python 3.8.8 ('base')",
   "language": "python",
   "name": "python3"
  },
  "language_info": {
   "codemirror_mode": {
    "name": "ipython",
    "version": 3
   },
   "file_extension": ".py",
   "mimetype": "text/x-python",
   "name": "python",
   "nbconvert_exporter": "python",
   "pygments_lexer": "ipython3",
   "version": "3.8.8"
  },
  "orig_nbformat": 4,
  "vscode": {
   "interpreter": {
    "hash": "9e765a96e5f40489db376370017179d79de916a29247b681d0d65e2e01ae9302"
   }
  }
 },
 "nbformat": 4,
 "nbformat_minor": 2
}
