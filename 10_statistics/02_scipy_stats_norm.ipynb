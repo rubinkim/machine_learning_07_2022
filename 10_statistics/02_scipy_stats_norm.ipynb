{
 "cells": [
  {
   "cell_type": "markdown",
   "metadata": {},
   "source": [
    "### scipy.stats.norm"
   ]
  },
  {
   "cell_type": "markdown",
   "metadata": {},
   "source": [
    "##### A normal continuous random variable.<br>The location(loc) keyword specifies the mean. The scale(scale) keyword specifies the standard deviation.<br>As an instance of the rv_continuous class, norm object inherits from it a collection of generic methods, and completes them with details specific for this particular distribution. The pdf for norm is : "
   ]
  },
  {
   "cell_type": "markdown",
   "metadata": {},
   "source": [
    "##### $$f(x) = \\frac{exp(\\frac{-x^2}{2})}{\\sqrt{2\\pi}}$$"
   ]
  },
  {
   "cell_type": "markdown",
   "metadata": {},
   "source": [
    "##### The pdf above is defined in the \"standardized\" form. To shift and/or scale the distribution use the loc and scale parameters. Specifically, norm.pdf(x, loc, scale) is identically equivalent to norm.pdf(y)/scale with y = (x-loc)/scale. Note that shifting the location of a distribution does not make it a \"noncentral\" distribution; noncentral generalizations of some distributions ara available in separate classes."
   ]
  },
  {
   "cell_type": "code",
   "execution_count": null,
   "metadata": {},
   "outputs": [],
   "source": []
  }
 ],
 "metadata": {
  "language_info": {
   "name": "python"
  },
  "orig_nbformat": 4
 },
 "nbformat": 4,
 "nbformat_minor": 2
}
