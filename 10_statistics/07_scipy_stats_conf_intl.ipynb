{
 "cells": [
  {
   "cell_type": "code",
   "execution_count": 1,
   "metadata": {},
   "outputs": [],
   "source": [
    "from scipy import stats\n",
    "import random\n",
    "import math\n",
    "import numpy as np\n",
    "import pandas as pd\n",
    "from matplotlib import pyplot as plt"
   ]
  },
  {
   "cell_type": "code",
   "execution_count": 13,
   "metadata": {},
   "outputs": [
    {
     "data": {
      "text/plain": [
       "[48.001, 27.997, 39.999]"
      ]
     },
     "execution_count": 13,
     "metadata": {},
     "output_type": "execute_result"
    }
   ],
   "source": [
    "np.random.seed(10)\n",
    "\n",
    "population_ages1 = stats.poisson.rvs(loc=18, mu=30, size=150000) # Generate 15000 poisson rvs with mu equal to 48\n",
    "population_ages2 = stats.poisson.rvs(loc=18, mu=10, size=100000) # Generate 10000 poisson rvs with mu equal to 28\n",
    "\n",
    "population_ages = np.concatenate((population_ages1, population_ages2))\n",
    "[round(x.mean(), 3) for x in (population_ages1, population_ages2, population_ages)]"
   ]
  },
  {
   "cell_type": "code",
   "execution_count": 17,
   "metadata": {},
   "outputs": [],
   "source": [
    "sample_ages = np.random.choice(a=population_ages, size=500, replace=True)   # sampling with replacement, default"
   ]
  },
  {
   "cell_type": "code",
   "execution_count": 27,
   "metadata": {},
   "outputs": [
    {
     "name": "stdout",
     "output_type": "stream",
     "text": [
      "250000\n",
      "['white', 'black', 'hispanic', 'asian', 'other']\n"
     ]
    }
   ],
   "source": [
    "random.seed(10)\n",
    "\n",
    "population_races = ['white']*100000 + ['black']*50000 + ['hispanic']*50000 + ['asian']*25000 + ['other']*25000\n",
    "print(len(population_races))\n",
    "print([population_races[x] for x in [0,100000, 150000, 200000, 225000]])"
   ]
  },
  {
   "cell_type": "code",
   "execution_count": 34,
   "metadata": {},
   "outputs": [
    {
     "name": "stdout",
     "output_type": "stream",
     "text": [
      "other's proportion estimate : 0.091\n",
      "hispanic's proportion estimate : 0.193\n",
      "black's proportion estimate : 0.211\n",
      "asian's proportion estimate : 0.091\n",
      "white's proportion estimate : 0.414\n"
     ]
    }
   ],
   "source": [
    "demo_sample = random.sample(population=population_races, k=1000)    # without replacement\n",
    "set(demo_sample)\n",
    "\n",
    "for race in set(demo_sample):\n",
    "    print(race + \"'s proportion estimate : \" + str(demo_sample.count(race)/1000)) "
   ]
  },
  {
   "cell_type": "code",
   "execution_count": null,
   "metadata": {},
   "outputs": [],
   "source": []
  }
 ],
 "metadata": {
  "kernelspec": {
   "display_name": "Python 3.8.8 ('base')",
   "language": "python",
   "name": "python3"
  },
  "language_info": {
   "codemirror_mode": {
    "name": "ipython",
    "version": 3
   },
   "file_extension": ".py",
   "mimetype": "text/x-python",
   "name": "python",
   "nbconvert_exporter": "python",
   "pygments_lexer": "ipython3",
   "version": "3.8.8"
  },
  "orig_nbformat": 4,
  "vscode": {
   "interpreter": {
    "hash": "9e765a96e5f40489db376370017179d79de916a29247b681d0d65e2e01ae9302"
   }
  }
 },
 "nbformat": 4,
 "nbformat_minor": 2
}
