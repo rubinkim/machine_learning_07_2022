{
 "cells": [
  {
   "cell_type": "code",
   "execution_count": 1,
   "metadata": {},
   "outputs": [],
   "source": [
    "from scipy import stats\n",
    "import random\n",
    "import math\n",
    "import numpy as np\n",
    "import pandas as pd\n",
    "from matplotlib import pyplot as plt"
   ]
  },
  {
   "cell_type": "code",
   "execution_count": 2,
   "metadata": {},
   "outputs": [
    {
     "data": {
      "text/plain": [
       "[48.001, 27.997, 39.999]"
      ]
     },
     "execution_count": 2,
     "metadata": {},
     "output_type": "execute_result"
    }
   ],
   "source": [
    "np.random.seed(10)\n",
    "\n",
    "population_ages1 = stats.poisson.rvs(loc=18, mu=30, size=150000) # Generate 15000 poisson rvs with mu equal to 48\n",
    "population_ages2 = stats.poisson.rvs(loc=18, mu=10, size=100000) # Generate 10000 poisson rvs with mu equal to 28\n",
    "\n",
    "population_ages = np.concatenate((population_ages1, population_ages2))\n",
    "[round(x.mean(), 3) for x in (population_ages1, population_ages2, population_ages)]"
   ]
  },
  {
   "cell_type": "code",
   "execution_count": 3,
   "metadata": {},
   "outputs": [],
   "source": [
    "sample_ages = np.random.choice(a=population_ages, size=500, replace=True)   # sampling with replacement, default"
   ]
  },
  {
   "cell_type": "code",
   "execution_count": 4,
   "metadata": {},
   "outputs": [
    {
     "name": "stdout",
     "output_type": "stream",
     "text": [
      "250000\n",
      "['white', 'black', 'hispanic', 'asian', 'other']\n"
     ]
    }
   ],
   "source": [
    "random.seed(10)\n",
    "\n",
    "population_races = ['white']*100000 + ['black']*50000 + ['hispanic']*50000 + ['asian']*25000 + ['other']*25000\n",
    "print(len(population_races))\n",
    "print([population_races[x] for x in [0,100000, 150000, 200000, 225000]])"
   ]
  },
  {
   "cell_type": "code",
   "execution_count": 5,
   "metadata": {},
   "outputs": [
    {
     "name": "stdout",
     "output_type": "stream",
     "text": [
      "other's proportion estimate : 0.099\n",
      "hispanic's proportion estimate : 0.192\n",
      "white's proportion estimate : 0.379\n",
      "asian's proportion estimate : 0.099\n",
      "black's proportion estimate : 0.231\n"
     ]
    }
   ],
   "source": [
    "demo_sample = random.sample(population=population_races, k=1000)    # without replacement\n",
    "set(demo_sample)\n",
    "\n",
    "for race in set(demo_sample):\n",
    "    print(race + \"'s proportion estimate : \" + str(demo_sample.count(race)/1000)) "
   ]
  },
  {
   "cell_type": "markdown",
   "metadata": {},
   "source": [
    "#### Sampling Distributions & Central Limit Theorem"
   ]
  },
  {
   "cell_type": "code",
   "execution_count": 18,
   "metadata": {},
   "outputs": [
    {
     "name": "stdout",
     "output_type": "stream",
     "text": [
      "-0.05838318352527109\n"
     ]
    },
    {
     "data": {
      "image/png": "[encoded data removed]",
      "text/plain": [
       "<Figure size 1080x360 with 1 Axes>"
      ]
     },
     "metadata": {
      "needs_background": "light"
     },
     "output_type": "display_data"
    }
   ],
   "source": [
    "print(stats.skew(population_ages))\n",
    "\n",
    "pd.DataFrame(data=population_ages).hist(bins=58, range=(17.5, 75.5), color='g', edgecolor='yellow', figsize=(15, 5))\n",
    "plt.show()"
   ]
  },
  {
   "cell_type": "markdown",
   "metadata": {},
   "source": [
    "##### The distribution has low skewness, but the plot reveals the data is clearly not normal: instead of one symmetric bell curve, it has as bimodal distribution with two high density peaks. The sample we drew from this populaton have roughly the shape and skew:"
   ]
  },
  {
   "cell_type": "code",
   "execution_count": 20,
   "metadata": {},
   "outputs": [
    {
     "name": "stdout",
     "output_type": "stream",
     "text": [
      "0.015634299216207747\n"
     ]
    },
    {
     "data": {
      "image/png": "[encoded data removed]",
      "text/plain": [
       "<Figure size 1080x360 with 1 Axes>"
      ]
     },
     "metadata": {
      "needs_background": "light"
     },
     "output_type": "display_data"
    }
   ],
   "source": [
    "print(stats.skew(sample_ages))\n",
    "\n",
    "pd.DataFrame(data=sample_ages).hist(bins=58, range=(17.5, 75.5), color='red', edgecolor='yellow', figsize=(15,5))\n",
    "plt.show()"
   ]
  },
  {
   "cell_type": "markdown",
   "metadata": {},
   "source": [
    "##### The sample has roughly the same shape as the underlying population. This suggests that we can't apply technique that assume a normal distribution to this data set, since it is not normal. In reality, we can, thanks the central limit theorem.<br><br>The central limit theorem is one of the most important results of probability theory and serves as the foundation of many methods of statistical analysis. At a high level, the theorem states the distribution of many sample means, known as a sampling distribution, will be normally distributed. As a result we can treat the sample mean as if it were drawn from normal distribution.<br><br>To illustrate, let's create a sampling distribution by taking 200 samples from our population and then making 200 point estimates of the mean:"
   ]
  },
  {
   "cell_type": "code",
   "execution_count": null,
   "metadata": {},
   "outputs": [],
   "source": []
  }
 ],
 "metadata": {
  "kernelspec": {
   "display_name": "Python 3.8.8 ('base')",
   "language": "python",
   "name": "python3"
  },
  "language_info": {
   "codemirror_mode": {
    "name": "ipython",
    "version": 3
   },
   "file_extension": ".py",
   "mimetype": "text/x-python",
   "name": "python",
   "nbconvert_exporter": "python",
   "pygments_lexer": "ipython3",
   "version": "3.8.8"
  },
  "orig_nbformat": 4,
  "vscode": {
   "interpreter": {
    "hash": "9e765a96e5f40489db376370017179d79de916a29247b681d0d65e2e01ae9302"
   }
  }
 },
 "nbformat": 4,
 "nbformat_minor": 2
}
