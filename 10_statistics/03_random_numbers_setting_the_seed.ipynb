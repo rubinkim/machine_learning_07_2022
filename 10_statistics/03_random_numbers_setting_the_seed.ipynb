{
 "cells": [
  {
   "cell_type": "markdown",
   "metadata": {},
   "source": [
    "#### Generating Random Numbers & Setting The Seed"
   ]
  },
  {
   "cell_type": "markdown",
   "metadata": {},
   "source": [
    "##### Python also comes with a library called \"random\" that lets me perform various operations that involve randomization."
   ]
  },
  {
   "cell_type": "code",
   "execution_count": 18,
   "metadata": {},
   "outputs": [
    {
     "name": "stdout",
     "output_type": "stream",
     "text": [
      "0\n",
      "9\n",
      "0.5362020400339269\n",
      "5.33219769850968\n",
      "[10.524, 10.872, 14.072, 11.077]\n"
     ]
    }
   ],
   "source": [
    "import random\n",
    "import numpy as np\n",
    "\n",
    "a = random.randint(a=0, b=10)       # Get a random integer in the specified range(a, b)\n",
    "b = random.choice(seq=[2,4,6,9])    # Get a random element from a sequence\n",
    "c = random.random()                 # Get a real number between 0 and 1 \n",
    "d = random.uniform(a=5, b=6)        # Get a real number in a specified range(a, b)\n",
    "\n",
    "random.seed(123)                    # Set the seed to an arbitrary value 123, pseudo random\n",
    "# Note: The Python standard library \"random\" has a separate interval seed from the Numpy library. When using\n",
    "# functions from Numpy and libraries built on top of Numpy such as Pandas, Scipy, Scikit-learn,\n",
    "# use np.random.seed instead of random.seed to set the seed.\n",
    "\n",
    "e = [np.round(random.uniform(a=10, b=20), 3) for x in range(4)]\n",
    "\n",
    "print(a)\n",
    "print(b)\n",
    "print(c)\n",
    "print(d)\n",
    "print(e)"
   ]
  },
  {
   "cell_type": "code",
   "execution_count": null,
   "metadata": {},
   "outputs": [],
   "source": []
  }
 ],
 "metadata": {
  "kernelspec": {
   "display_name": "Python 3.8.8 ('base')",
   "language": "python",
   "name": "python3"
  },
  "language_info": {
   "codemirror_mode": {
    "name": "ipython",
    "version": 3
   },
   "file_extension": ".py",
   "mimetype": "text/x-python",
   "name": "python",
   "nbconvert_exporter": "python",
   "pygments_lexer": "ipython3",
   "version": "3.8.8"
  },
  "orig_nbformat": 4,
  "vscode": {
   "interpreter": {
    "hash": "9e765a96e5f40489db376370017179d79de916a29247b681d0d65e2e01ae9302"
   }
  }
 },
 "nbformat": 4,
 "nbformat_minor": 2
}
