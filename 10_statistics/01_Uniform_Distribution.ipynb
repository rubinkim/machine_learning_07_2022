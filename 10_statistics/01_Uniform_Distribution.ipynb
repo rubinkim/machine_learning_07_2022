{
 "cells": [
  {
   "cell_type": "markdown",
   "metadata": {},
   "source": [
    "#### Probability Distributions"
   ]
  },
  {
   "cell_type": "markdown",
   "metadata": {},
   "source": [
    "##### A random variable is a variable that varies due to chance. Probability distribution describes how<br> random variables are distributed. There are a range of precisely defined probability distributions that<br> model different types of random variables."
   ]
  },
  {
   "cell_type": "markdown",
   "metadata": {},
   "source": [
    "##### Uniform Distribution<br>is a probability distribution where each value within a certain range is equally likely to occur. scipy.stats library contains many useful fuctions for working with probility distributions.\n"
   ]
  },
  {
   "cell_type": "code",
   "execution_count": 5,
   "metadata": {},
   "outputs": [],
   "source": [
    "import numpy as np\n",
    "import pandas as pd\n",
    "import random\n",
    "from scipy import stats"
   ]
  },
  {
   "cell_type": "code",
   "execution_count": 6,
   "metadata": {},
   "outputs": [
    {
     "data": {
      "text/plain": [
       "array([6.1514868 , 7.90026181, 8.31846914, ..., 8.12348877, 8.16910127,\n",
       "       9.8529702 ])"
      ]
     },
     "execution_count": 6,
     "metadata": {},
     "output_type": "execute_result"
    }
   ],
   "source": [
    "# 시작이 0이고, 끝이 10인 인터벌을 갖는 uniform분포에서 10000개의 data추출하기\n",
    "random.seed(123)\n",
    "uniform_data = stats.uniform.rvs(loc=0, scale=10, size=10000)\n",
    "uniform_data"
   ]
  },
  {
   "cell_type": "code",
   "execution_count": 13,
   "metadata": {},
   "outputs": [
    {
     "name": "stdout",
     "output_type": "stream",
     "text": [
      "uniform dist의 평균 : 5.05735714018566\n",
      "uniform dist의 표준편차 : 2.884004575577619\n",
      "uniform dist의 최소값 : 0.0004172355078335688\n",
      "uniform dist의 최대값 : 9.999575688042002\n"
     ]
    }
   ],
   "source": [
    "uni_max, uni_min = np.max(uniform_data), np.min(uniform_data)\n",
    "uni_mean, uni_std = np.mean(uniform_data), np.std(uniform_data)\n",
    "print(f\"uniform dist의 평균 : {uni_mean}\\nuniform dist의 표준편차 : {uni_std}\\n\\\n",
    "uniform dist의 최소값 : {uni_min}\\nuniform dist의 최대값 : {uni_max}\")"
   ]
  },
  {
   "cell_type": "code",
   "execution_count": null,
   "metadata": {},
   "outputs": [],
   "source": []
  }
 ],
 "metadata": {
  "kernelspec": {
   "display_name": "Python 3.8.8 ('base')",
   "language": "python",
   "name": "python3"
  },
  "language_info": {
   "codemirror_mode": {
    "name": "ipython",
    "version": 3
   },
   "file_extension": ".py",
   "mimetype": "text/x-python",
   "name": "python",
   "nbconvert_exporter": "python",
   "pygments_lexer": "ipython3",
   "version": "3.8.8"
  },
  "orig_nbformat": 4,
  "vscode": {
   "interpreter": {
    "hash": "9e765a96e5f40489db376370017179d79de916a29247b681d0d65e2e01ae9302"
   }
  }
 },
 "nbformat": 4,
 "nbformat_minor": 2
}
