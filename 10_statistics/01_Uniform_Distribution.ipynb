{
 "cells": [
  {
   "cell_type": "markdown",
   "metadata": {},
   "source": [
    "##### Probability Distributions"
   ]
  },
  {
   "cell_type": "markdown",
   "metadata": {},
   "source": [
    "##### A random variable is a variable that varies due to chance. Probability distribution describes how<br> random variables are distributed. There are a range of precisely defined probability distributions that<br> model different types of random variables."
   ]
  },
  {
   "cell_type": "markdown",
   "metadata": {},
   "source": [
    "##### Uniform Distribution<br>is a probability distribution where each value within a certain range is equally likely to occur. scipy.stats library contains many useful fuctions for working with probility distributions.\n"
   ]
  },
  {
   "cell_type": "code",
   "execution_count": 4,
   "metadata": {},
   "outputs": [],
   "source": [
    "import numpy as np\n",
    "import pandas as pd\n",
    "from scipy import stats"
   ]
  },
  {
   "cell_type": "code",
   "execution_count": 3,
   "metadata": {},
   "outputs": [
    {
     "data": {
      "text/plain": [
       "array([1.34446433, 1.13416622, 4.84033339, 2.94208384, 4.9134971 ,\n",
       "       1.0760553 , 2.50537009, 9.32060129, 3.12553161, 8.33827101,\n",
       "       7.86846685, 9.18068948, 3.42015352, 2.01196866, 5.0629471 ,\n",
       "       0.64385303, 5.47852932, 8.51597039, 7.69238727, 9.91790812,\n",
       "       1.80199694, 9.0128217 , 2.57291531, 9.21192636, 6.67737227,\n",
       "       2.19648916, 0.80403309, 1.19748743, 4.07226381, 4.55009033,\n",
       "       6.61932684, 7.71692893, 0.66129302, 8.02387752, 9.54570832,\n",
       "       9.46631809, 4.42858857, 9.42560131, 4.10367453, 3.80694741,\n",
       "       6.12169179, 1.57281326, 2.6550257 , 2.61431005, 2.21602202,\n",
       "       4.50993076, 7.76192428, 8.66624765, 9.62950981, 7.82330941,\n",
       "       4.77188899, 1.88293603, 0.10496857, 4.70473351, 9.10913516,\n",
       "       2.67293835, 5.9509491 , 9.82453007, 3.41440479, 8.56962329,\n",
       "       5.99633628, 2.66596747, 0.38358047, 9.72020235, 7.89655818,\n",
       "       2.19855929, 0.15801346, 5.30927139, 1.4252715 , 1.49958844,\n",
       "       1.16179769, 4.08471271, 7.88856515, 9.18417388, 0.24630338,\n",
       "       9.89518126, 2.67280983, 0.3450053 , 3.46437685, 9.68955984,\n",
       "       7.86089648, 1.71937416, 9.47265453, 5.56697321, 4.28102029,\n",
       "       5.41614478, 9.59900112, 1.44253845, 5.43318165, 9.40669127,\n",
       "       1.22937659, 9.59263169, 8.37354376, 2.15720972, 5.70737351,\n",
       "       0.31316837, 3.82279847, 2.05613513, 9.43963704, 4.86536412])"
      ]
     },
     "execution_count": 3,
     "metadata": {},
     "output_type": "execute_result"
    }
   ],
   "source": [
    "# \n",
    "uniform_data = stats.uniform.rvs(loc=0, scale=10, size=100)\n",
    "uniform_data"
   ]
  },
  {
   "cell_type": "code",
   "execution_count": null,
   "metadata": {},
   "outputs": [],
   "source": []
  }
 ],
 "metadata": {
  "kernelspec": {
   "display_name": "Python 3.8.8 ('base')",
   "language": "python",
   "name": "python3"
  },
  "language_info": {
   "codemirror_mode": {
    "name": "ipython",
    "version": 3
   },
   "file_extension": ".py",
   "mimetype": "text/x-python",
   "name": "python",
   "nbconvert_exporter": "python",
   "pygments_lexer": "ipython3",
   "version": "3.8.8"
  },
  "orig_nbformat": 4,
  "vscode": {
   "interpreter": {
    "hash": "9e765a96e5f40489db376370017179d79de916a29247b681d0d65e2e01ae9302"
   }
  }
 },
 "nbformat": 4,
 "nbformat_minor": 2
}
