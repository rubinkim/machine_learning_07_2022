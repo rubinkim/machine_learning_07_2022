{
 "cells": [
  {
   "cell_type": "code",
   "execution_count": 1,
   "metadata": {},
   "outputs": [
    {
     "name": "stdout",
     "output_type": "stream",
     "text": [
      "2.10.0\n"
     ]
    }
   ],
   "source": [
    "import tensorflow as tf\n",
    "import math\n",
    "import numpy as np\n",
    "\n",
    "print(tf.__version__)"
   ]
  },
  {
   "cell_type": "markdown",
   "metadata": {},
   "source": [
    "#### OR연산 텐서플로로 네트워크 구축하기"
   ]
  },
  {
   "cell_type": "code",
   "execution_count": 2,
   "metadata": {},
   "outputs": [],
   "source": [
    "def sigmoid(x):\n",
    "    return 1 / (1 + math.exp(-x))"
   ]
  },
  {
   "cell_type": "code",
   "execution_count": 70,
   "metadata": {},
   "outputs": [
    {
     "name": "stdout",
     "output_type": "stream",
     "text": [
      "시행횟수 :  199,   오차합 : -0.040429\n",
      "시행횟수 :  399,   오차합 : -0.023122\n",
      "시행횟수 :  599,   오차합 : -0.016088\n",
      "시행횟수 :  799,   오차합 : -0.012299\n",
      "시행횟수 :  999,   오차합 : -0.009939\n",
      "시행횟수 : 1199,   오차합 : -0.008331\n",
      "시행횟수 : 1399,   오차합 : -0.007166\n",
      "시행횟수 : 1599,   오차합 : -0.006285\n",
      "시행횟수 : 1799,   오차합 : -0.005596\n",
      "시행횟수 : 1999,   오차합 : -0.005040\n"
     ]
    }
   ],
   "source": [
    "# OR 연산은 입력값 둘 중의 하나만 True여도 출력값이 True인 연산이다.\n",
    "# x = [[1,1],[1,0],[0,1],[0,0]] --> y = [[1],[1],[1],[0]] \n",
    "# 입력값이 2차원이므로 가중치역시 2차원이다. 절편은 그냥 1차원이고 1로 한다.\n",
    "# 활성화함수로 sigmoid를 사용한다.\n",
    "\n",
    "x = np.array([[1,1],[1,0],[0,1],[0,0]])\n",
    "y = np.array([[1],[1],[1],[0]])\n",
    "w = tf.random.normal([2], 0, 1)\n",
    "b = tf.random.normal([1], 0, 1)\n",
    "b_x = 1\n",
    "\n",
    "for i in range(2000):\n",
    "    error_sum = 0\n",
    "    for j in range(4):\n",
    "        output = sigmoid(np.sum(x[j] * w) + b_x * b)\n",
    "        error = y[j][0] - output\n",
    "        w = w + x[j] * 0.1 * error\n",
    "        b = b + b_x * 0.1 * error\n",
    "        error_sum += error\n",
    "        \n",
    "    if i % 200 == 199:\n",
    "        print(f\"시행횟수 : {i:4d},   오차합 : {error_sum:3f}\")"
   ]
  },
  {
   "cell_type": "code",
   "execution_count": 71,
   "metadata": {},
   "outputs": [
    {
     "name": "stdout",
     "output_type": "stream",
     "text": [
      "가중치 : [8.2589, 8.2576],   절편 : [-3.6638]\n"
     ]
    }
   ],
   "source": [
    "print(f\"가중치 : {[np.round(x, 4) for x in w]},   절편 : {np.round(b, 4)}\")"
   ]
  },
  {
   "cell_type": "code",
   "execution_count": 72,
   "metadata": {},
   "outputs": [
    {
     "data": {
      "text/plain": [
       "<tf.Tensor: shape=(), dtype=float32, numpy=16.51648>"
      ]
     },
     "execution_count": 72,
     "metadata": {},
     "output_type": "execute_result"
    }
   ],
   "source": [
    "w[0] + w[1]"
   ]
  },
  {
   "cell_type": "code",
   "execution_count": 73,
   "metadata": {},
   "outputs": [
    {
     "name": "stdout",
     "output_type": "stream",
     "text": [
      "학습시킨 가중치 : [8.2589, 8.2576],   편차 : [-3.6638]\n",
      "X : [1 1],    Y : 1,    중간계산 : 12.852700,   Output : 1.0\n",
      "X : [1 0],    Y : 1,    중간계산 : 4.595146,   Output : 0.99\n",
      "X : [0 1],    Y : 1,    중간계산 : 4.593774,   Output : 0.98999\n",
      "X : [0 0],    Y : 0,    중간계산 : -3.663779,   Output : 0.02499\n"
     ]
    }
   ],
   "source": [
    "# 이렇게 학습시킨 네트워크가 정상적으로 작동하는지 평가해보자.\n",
    "print(f\"학습시킨 가중치 : {[np.round(x, 4) for x in w]},   편차 : {np.round(b, 4)}\")\n",
    "\n",
    "for i in range(4):\n",
    "    print(f\"X : {x[i]},    Y : {y[i][0]},\\\n",
    "    중간계산 : {np.sum(x[i]*w)+b_x*b[0]:3f},   Output : {np.round(sigmoid(np.sum(x[i] * w) + b_x * b), 5)}\")"
   ]
  },
  {
   "cell_type": "markdown",
   "metadata": {},
   "source": [
    "#### XOR연산 텐서플로로 네트워크 구축하기"
   ]
  },
  {
   "cell_type": "code",
   "execution_count": 81,
   "metadata": {},
   "outputs": [
    {
     "name": "stdout",
     "output_type": "stream",
     "text": [
      "시행횟수 :  199,   오차합 : 0.007722\n",
      "시행횟수 :  399,   오차합 : 0.000314\n",
      "시행횟수 :  599,   오차합 : 0.000013\n",
      "시행횟수 :  799,   오차합 : 0.000001\n",
      "시행횟수 :  999,   오차합 : 0.000000\n",
      "시행횟수 : 1199,   오차합 : 0.000000\n",
      "시행횟수 : 1399,   오차합 : 0.000000\n",
      "시행횟수 : 1599,   오차합 : 0.000000\n",
      "시행횟수 : 1799,   오차합 : 0.000000\n",
      "시행횟수 : 1999,   오차합 : 0.000000\n"
     ]
    }
   ],
   "source": [
    "# XOR 연산은 입력값 둘의 값들이 다르면 출력값이 True, 같으면 출력값이 False인 연산이다.\n",
    "# x = [[1,1],[1,0],[0,1],[0,0]] --> y = [[1],[1],[1],[0]] \n",
    "# 입력값이 2차원이므로 가중치역시 2차원이다. 절편은 그냥 1차원이고 1로 한다.\n",
    "# 활성화함수로 sigmoid를 사용한다.\n",
    "\n",
    "x = np.array([[1,1],[1,0],[0,1],[0,0]])\n",
    "y = np.array([[0],[1],[1],[0]])\n",
    "w = tf.random.normal([2], 0, 1)\n",
    "b = tf.random.normal([1], 0, 1)\n",
    "b_x = 1\n",
    "\n",
    "for i in range(2000):\n",
    "    error_sum = 0\n",
    "    for j in range(4):\n",
    "        output = sigmoid(np.sum(x[j] * w) + b_x * b)\n",
    "        error = y[j][0] - output\n",
    "        w = w + x[j] * 0.1 * error\n",
    "        b = b + b_x * 0.1 * error\n",
    "        error_sum += error\n",
    "        \n",
    "    if i % 200 == 199:\n",
    "        print(f\"시행횟수 : {i:4d},   오차합 : {error_sum:3f}\")"
   ]
  },
  {
   "cell_type": "markdown",
   "metadata": {},
   "source": [
    "##### 위에서 보면 에러값은 점점 줄어들다가 어느 순간 변하지 않는다. 이렇게 학습시킨 네트워크를 평가하기 위해 sigmoid함수의 인자값을 중간계산이라는 이름으로 출력해보자."
   ]
  },
  {
   "cell_type": "code",
   "execution_count": 79,
   "metadata": {},
   "outputs": [
    {
     "name": "stdout",
     "output_type": "stream",
     "text": [
      "학습시킨 가중치 : [0.0513, 0.0],   편차 : [-0.]\n",
      "X : [1 1],    Y : 0,    중간계산 : 0.051282,   Output : 0.51282\n",
      "X : [1 0],    Y : 1,    중간계산 : 0.051282,   Output : 0.51282\n",
      "X : [0 1],    Y : 1,    중간계산 : -0.000000,   Output : 0.5\n",
      "X : [0 0],    Y : 0,    중간계산 : -0.000000,   Output : 0.5\n"
     ]
    }
   ],
   "source": [
    "# 이렇게 학습시킨 네트워크가 정상적으로 작동하는지 평가해보자.\n",
    "print(f\"학습시킨 가중치 : {[np.round(x, 4) for x in w]},   편차 : {np.round(b, 4)}\")\n",
    "\n",
    "for i in range(4):\n",
    "    print(f\"X : {x[i]},    Y : {y[i][0]},\\\n",
    "    중간계산 : {np.sum(x[i]*w)+b_x*b[0]:3f},   Output : {np.round(sigmoid(np.sum(x[i] * w) + b_x * b[0]), 5)}\")"
   ]
  },
  {
   "cell_type": "markdown",
   "metadata": {},
   "source": [
    "##### 위의 결과값을 보면 Y와 Output값간에 큰 차이가 있어 보인다. X가 변해도 Output값은 0.5근처에서 머물고 있다. 왜 이럴까를 알아내기 위해서 가중치와 편향을 살펴보기로 하자."
   ]
  },
  {
   "cell_type": "code",
   "execution_count": 92,
   "metadata": {},
   "outputs": [
    {
     "name": "stdout",
     "output_type": "stream",
     "text": [
      "가중치 : [0.05128, 0.0],   편향 : -0.0\n"
     ]
    }
   ],
   "source": [
    "print(f\"가중치 : {[np.round(x, 5) for x in w]},   편향 : {np.round(b[0], 7)}\")"
   ]
  },
  {
   "cell_type": "markdown",
   "metadata": {},
   "source": [
    "##### 가중치의 첫번째 값이 두번째 값보다 더 큰 영향을 끼치는데 반해 두번째 값과 편향의 영향은 아주 미미함을 볼수 있다. 결과적으로 X의 첫번째 값이 1인 경우와 0인경우에 따라 중간계산값과 Output값이 달라짐을 알 수 있다."
   ]
  }
 ],
 "metadata": {
  "kernelspec": {
   "display_name": "Python 3.9.13 ('tf_gpu')",
   "language": "python",
   "name": "python3"
  },
  "language_info": {
   "codemirror_mode": {
    "name": "ipython",
    "version": 3
   },
   "file_extension": ".py",
   "mimetype": "text/x-python",
   "name": "python",
   "nbconvert_exporter": "python",
   "pygments_lexer": "ipython3",
   "version": "3.9.13"
  },
  "orig_nbformat": 4,
  "vscode": {
   "interpreter": {
    "hash": "7b18c970f1c267b2ae7de1f51c7b9ea29dc67f6c9f87d5b0ef47c4534e0830b3"
   }
  }
 },
 "nbformat": 4,
 "nbformat_minor": 2
}
