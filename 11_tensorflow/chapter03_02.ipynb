{
 "cells": [
  {
   "cell_type": "code",
   "execution_count": 2,
   "metadata": {},
   "outputs": [
    {
     "name": "stdout",
     "output_type": "stream",
     "text": [
      "2.10.0\n"
     ]
    }
   ],
   "source": [
    "import tensorflow as tf\n",
    "import math\n",
    "import numpy as np\n",
    "\n",
    "print(tf.__version__)"
   ]
  },
  {
   "cell_type": "markdown",
   "metadata": {},
   "source": [
    "#### OR연산 텐서플로로 네트워크 구축하기"
   ]
  },
  {
   "cell_type": "code",
   "execution_count": 3,
   "metadata": {},
   "outputs": [],
   "source": [
    "def sigmoid(x):\n",
    "    return 1 / (1 + math.exp(-x))"
   ]
  },
  {
   "cell_type": "code",
   "execution_count": 7,
   "metadata": {},
   "outputs": [
    {
     "name": "stdout",
     "output_type": "stream",
     "text": [
      "시행횟수 :  199,   오차합 : -0.021977\n",
      "시행횟수 :  399,   오차합 : -0.011960\n",
      "시행횟수 :  599,   오차합 : -0.008209\n",
      "시행횟수 :  799,   오차합 : -0.006236\n",
      "시행횟수 :  999,   오차합 : -0.005020\n",
      "시행횟수 : 1199,   오차합 : -0.004198\n",
      "시행횟수 : 1399,   오차합 : -0.003606\n",
      "시행횟수 : 1599,   오차합 : -0.003159\n",
      "시행횟수 : 1799,   오차합 : -0.002809\n",
      "시행횟수 : 1999,   오차합 : -0.002529\n"
     ]
    }
   ],
   "source": [
    "# OR 연산은 입력값 둘 중의 하나만 True여도 출력값이 True인 연산이다.\n",
    "# x = [[1,1],[1,0],[0,1],[0,0]] --> y = [[1],[1],[1],[0]] \n",
    "# 입력값이 2차원이므로 가중치역시 2차원이다. 절편은 그냥 1차원이고 1로 한다.\n",
    "# 활성화함수로 sigmoid를 사용한다.\n",
    "\n",
    "x = np.array([[1,1],[1,0],[0,1],[0,0]])\n",
    "y = np.array([[1],[1],[1],[0]])\n",
    "w = tf.random.normal([2], 0, 1)\n",
    "b = tf.random.normal([1], 0, 1)\n",
    "b_x = 1\n",
    "\n",
    "for i in range(2000):\n",
    "    error_sum = 0\n",
    "    for j in range(4):\n",
    "        output = sigmoid(np.sum(x[j] * w + b_x * b))\n",
    "        error = y[j][0] - output\n",
    "        w = w + x[j] * 0.1 * error\n",
    "        b = b + b_x * 0.1 * error\n",
    "        error_sum += error\n",
    "        \n",
    "    if i % 200 == 199:\n",
    "        print(f\"시행횟수 : {i:4d},   오차합 : {error_sum:3f}\")"
   ]
  },
  {
   "cell_type": "code",
   "execution_count": 11,
   "metadata": {},
   "outputs": [
    {
     "name": "stdout",
     "output_type": "stream",
     "text": [
      "가중치 : [8.3551, 8.3553],   절편 : [-1.884]\n"
     ]
    }
   ],
   "source": [
    "print(f\"가중치 : {[np.round(x, 4) for x in w]},   절편 : {np.round(b, 4)}\")"
   ]
  },
  {
   "cell_type": "code",
   "execution_count": 16,
   "metadata": {},
   "outputs": [
    {
     "name": "stdout",
     "output_type": "stream",
     "text": [
      "학습시킨 가중치 : [8.3551, 8.3553],   편차 : [-1.884]\n",
      "X : [1 1],    Y : 1,   Output : 1.0\n",
      "X : [1 0],    Y : 1,   Output : 0.98992\n",
      "X : [0 1],    Y : 1,   Output : 0.98992\n",
      "X : [0 0],    Y : 0,   Output : 0.02258\n"
     ]
    }
   ],
   "source": [
    "# 이렇게 학습시킨 네트워크가 정상적으로 작동하는지 평가해보자.\n",
    "print(f\"학습시킨 가중치 : {[np.round(x, 4) for x in w]},   편차 : {np.round(b, 4)}\")\n",
    "\n",
    "for i in range(4):\n",
    "    print(f\"X : {x[i]},    Y : {y[i][0]},   Output : {np.round(sigmoid(np.sum(x[i] * w + b_x * b)), 5)}\")"
   ]
  },
  {
   "cell_type": "markdown",
   "metadata": {},
   "source": [
    "#### XOR연산 텐서플로로 네트워크 구축하기"
   ]
  },
  {
   "cell_type": "code",
   "execution_count": 17,
   "metadata": {},
   "outputs": [
    {
     "name": "stdout",
     "output_type": "stream",
     "text": [
      "시행횟수 :  199,   오차합 : -0.000719\n",
      "시행횟수 :  399,   오차합 : -0.000013\n",
      "시행횟수 :  599,   오차합 : -0.000000\n",
      "시행횟수 :  799,   오차합 : -0.000000\n",
      "시행횟수 :  999,   오차합 : -0.000000\n",
      "시행횟수 : 1199,   오차합 : -0.000000\n",
      "시행횟수 : 1399,   오차합 : -0.000000\n",
      "시행횟수 : 1599,   오차합 : -0.000000\n",
      "시행횟수 : 1799,   오차합 : -0.000000\n",
      "시행횟수 : 1999,   오차합 : -0.000000\n"
     ]
    }
   ],
   "source": [
    "# XOR 연산은 입력값 둘의 값들이 다르면 출력값이 True, 같으면 출력값이 False인 연산이다.\n",
    "# x = [[1,1],[1,0],[0,1],[0,0]] --> y = [[1],[1],[1],[0]] \n",
    "# 입력값이 2차원이므로 가중치역시 2차원이다. 절편은 그냥 1차원이고 1로 한다.\n",
    "# 활성화함수로 sigmoid를 사용한다.\n",
    "\n",
    "x = np.array([[1,1],[1,0],[0,1],[0,0]])\n",
    "y = np.array([[0],[1],[1],[0]])\n",
    "w = tf.random.normal([2], 0, 1)\n",
    "b = tf.random.normal([1], 0, 1)\n",
    "b_x = 1\n",
    "\n",
    "for i in range(2000):\n",
    "    error_sum = 0\n",
    "    for j in range(4):\n",
    "        output = sigmoid(np.sum(x[j] * w + b_x * b))\n",
    "        error = y[j][0] - output\n",
    "        w = w + x[j] * 0.1 * error\n",
    "        b = b + b_x * 0.1 * error\n",
    "        error_sum += error\n",
    "        \n",
    "    if i % 200 == 199:\n",
    "        print(f\"시행횟수 : {i:4d},   오차합 : {error_sum:3f}\")"
   ]
  },
  {
   "cell_type": "code",
   "execution_count": 18,
   "metadata": {},
   "outputs": [
    {
     "name": "stdout",
     "output_type": "stream",
     "text": [
      "학습시킨 가중치 : [0.1039, -0.0],   편차 : [-0.013]\n",
      "X : [1 1],    Y : 0,   Output : 0.51947\n",
      "X : [1 0],    Y : 1,   Output : 0.51947\n",
      "X : [0 1],    Y : 1,   Output : 0.49351\n",
      "X : [0 0],    Y : 0,   Output : 0.49351\n"
     ]
    }
   ],
   "source": [
    "# 이렇게 학습시킨 네트워크가 정상적으로 작동하는지 평가해보자.\n",
    "print(f\"학습시킨 가중치 : {[np.round(x, 4) for x in w]},   편차 : {np.round(b, 4)}\")\n",
    "\n",
    "for i in range(4):\n",
    "    print(f\"X : {x[i]},    Y : {y[i][0]},   Output : {np.round(sigmoid(np.sum(x[i] * w + b_x * b)), 5)}\")"
   ]
  }
 ],
 "metadata": {
  "kernelspec": {
   "display_name": "Python 3.9.13 ('tf_gpu')",
   "language": "python",
   "name": "python3"
  },
  "language_info": {
   "codemirror_mode": {
    "name": "ipython",
    "version": 3
   },
   "file_extension": ".py",
   "mimetype": "text/x-python",
   "name": "python",
   "nbconvert_exporter": "python",
   "pygments_lexer": "ipython3",
   "version": "3.9.13"
  },
  "orig_nbformat": 4,
  "vscode": {
   "interpreter": {
    "hash": "7b18c970f1c267b2ae7de1f51c7b9ea29dc67f6c9f87d5b0ef47c4534e0830b3"
   }
  }
 },
 "nbformat": 4,
 "nbformat_minor": 2
}
